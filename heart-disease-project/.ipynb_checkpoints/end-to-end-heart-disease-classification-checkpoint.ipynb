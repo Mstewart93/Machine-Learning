{
 "cells": [
  {
   "cell_type": "markdown",
   "id": "a6b9f03e-8bb2-4b14-9616-1cc0cc515513",
   "metadata": {},
   "source": [
    "# Predicting heart disease using machinge learning \n",
    "    this notedbook looks into using various python-based machine learning and data science libraries in an attempt to build a machine learning model capable of predicting wether or not someone has heart disease based on their medical attributes. \n",
    "    \n",
    "    We are going to take the following approach: \n",
    "    1. Problem definition \n",
    "    2. Data\n",
    "    3. Evaluation \n",
    "    4. Features\n",
    "    5. Modelling\n",
    "    6. Experimentation\n",
    "    "
   ]
  },
  {
   "cell_type": "markdown",
   "id": "79586c04-d99d-4462-a6d4-0955d17ef188",
   "metadata": {},
   "source": [
    "## 1. Problem Definition \n",
    "    >Given clinical parameters about a patient, can we predict whether or not they have heart disease?\n",
    "\n",
    "## 2. Data\n",
    "    > Our data comes from UCI Machine Learning Repository, Heart Disease Data Set, \n",
    "    https://archive.ics.uci.edu/dataset/45/heart+disease\n",
    "    but the CSV version came from Kaggle\n",
    "    https://www.kaggle.com/datasets/cherngs/heart-disease-cleveland-uci\n",
    "    \n",
    "## 3. Evaluation\n",
    "    if we can reach 95% accuracy at predicting whether or not a patient has heart disease during the proof of concept we'll puruse the project. \n",
    "\n",
    "## 4. Features\n",
    "    This is where we will get different information about the features of your data\n",
    "    **Create a Data Dictionary**\n",
    "    age: age in years\n",
    "    sex: sex (1 = male; 0 = female)\n",
    "    cp: chest pain type\n",
    "    -- Value 0: typical angina\n",
    "    -- Value 1: atypical angina\n",
    "    -- Value 2: non-anginal pain\n",
    "    -- Value 3: asymptomatic\n",
    "    trestbps: resting blood pressure (in mm Hg on admission to the hospitalchol: serum cholestoral in mg/dl\n",
    "    fbs: (fasting blood sugar > 120 mg/dl) (1 = true; 0 = false)\n",
    "    chol- serum cholesterol in mg/dl\n",
    "    --serum = LDL + HDL + .2 * triglyceride\n",
    "    --above 200 is a convern\n",
    "    restecg: resting electrocardiographic results\n",
    "    -- Value 0: normal\n",
    "    -- Value 1: having ST-T wave abnormality (T wave inversions and/or ST elevation or depression of > 0.05 mV)\n",
    "    -- Value 2: showing probable or definite left ventricular hypertrophy by Estes' criteria\n",
    "    thalach: maximum heart rate achieved\n",
    "    exang: exercise induced angina (1 = yes; 0 = no)\n",
    "    oldpeak = ST depression induced by exercise relative to rest\n",
    "    slope: the slope of the peak exercise ST segment\n",
    "    -- Value 0: upsloping\n",
    "    -- Value 1: flat\n",
    "    -- Value 2: downsloping\n",
    "    ca: number of major vessels (0-3) colored by flourosopy\n",
    "    thal: 0 = normal; 1 = fixed defect; 2 = reversable defect \n",
    "    and the label\n",
    "    condition: 0 = no disease, 1 = disease\n",
    "\n",
    "\n",
    "\n",
    "\n"
   ]
  },
  {
   "cell_type": "markdown",
   "id": "1db02f9f-1801-486b-9542-a5df865a6443",
   "metadata": {},
   "source": [
    "## Preparing the tools\n",
    "\n",
    "we are going to use pandas, Matplotlib, and NumPy for data analysis and manipulation"
   ]
  },
  {
   "cell_type": "code",
   "execution_count": 2,
   "id": "2ace0ea0-57ff-4b58-a104-b63e55f7f6a9",
   "metadata": {},
   "outputs": [],
   "source": [
    "#Imort all the tools we need\n",
    "\n",
    "#Regular Exploritory Data Analysis (EDA) and Plotting libraries\n",
    "import pandas as pd\n",
    "import numpy as np\n",
    "import matplotlib.pyplot as plt\n",
    "import seaborn as sns \n",
    "\n",
    "%matplotlib inline \n",
    "#we want the plots to appear inside of the jupyter notebook\n",
    "\n",
    "#Models from Scikit-Learn THese are chosen from sklearn map, we are working with classification, yes or no\n",
    "from sklearn.linear_model import LogisticRegression\n",
    "from sklearn.neighbors import KNeighborsClassifier\n",
    "from sklearn.ensemble import RandomForestClassifier\n",
    "\n",
    "#Model Evaluations \n",
    "from sklearn.model_selection import train_test_split, cross_val_score\n",
    "from sklearn.model_selection import RandomizedSearchCV, GridSearchCV\n",
    "from sklearn.metrics import confusion_matrix, classification_report\n",
    "from sklearn.metrics import precision_score, recall_score, f1_score\n",
    "from sklearn.metrics import RocCurveDisplay\n",
    "\n",
    "\n",
    "\n"
   ]
  },
  {
   "cell_type": "code",
   "execution_count": null,
   "id": "6c0caf21-d5bc-4490-acce-053e2759859a",
   "metadata": {},
   "outputs": [],
   "source": []
  }
 ],
 "metadata": {
  "kernelspec": {
   "display_name": "Python 3 (ipykernel)",
   "language": "python",
   "name": "python3"
  },
  "language_info": {
   "codemirror_mode": {
    "name": "ipython",
    "version": 3
   },
   "file_extension": ".py",
   "mimetype": "text/x-python",
   "name": "python",
   "nbconvert_exporter": "python",
   "pygments_lexer": "ipython3",
   "version": "3.11.5"
  }
 },
 "nbformat": 4,
 "nbformat_minor": 5
}
