{
 "cells": [
  {
   "cell_type": "code",
   "execution_count": 1,
   "id": "9eaab2a8-0a4a-425e-b89e-e4985d6277a1",
   "metadata": {},
   "outputs": [],
   "source": [
    "import pandas as pd"
   ]
  },
  {
   "cell_type": "code",
   "execution_count": null,
   "id": "b7e0ce73-7b98-4588-bcc7-bdba31d0b7c4",
   "metadata": {},
   "outputs": [],
   "source": []
  },
  {
   "cell_type": "code",
   "execution_count": 3,
   "id": "abb32c6d-88b5-4aeb-b72e-dd2b3de44132",
   "metadata": {},
   "outputs": [
    {
     "name": "stdout",
     "output_type": "stream",
     "text": [
      "Last updated: 2023-12-07 07:01:10.491750\n"
     ]
    }
   ],
   "source": [
    "import datetime\n",
    "print(f\"Last updated: {datetime.datetime.now()}\")"
   ]
  },
  {
   "cell_type": "code",
   "execution_count": 4,
   "id": "36cee518-81f1-4569-b050-a1e4bc67773b",
   "metadata": {},
   "outputs": [],
   "source": [
    "import numpy as np"
   ]
  },
  {
   "cell_type": "code",
   "execution_count": 5,
   "id": "d430b46f-65ce-4c76-bb93-7794b59ac188",
   "metadata": {},
   "outputs": [
    {
     "name": "stdout",
     "output_type": "stream",
     "text": [
      "1.26.2\n"
     ]
    }
   ],
   "source": [
    "print(np.__version__)\n",
    "\n"
   ]
  },
  {
   "cell_type": "markdown",
   "id": "6692b4d0-056f-4813-9d28-993c39b64941",
   "metadata": {},
   "source": [
    "# 1. Data Types and Attributes"
   ]
  },
  {
   "cell_type": "code",
   "execution_count": 6,
   "id": "5352b462-3875-41f3-a1b4-9d2252120a92",
   "metadata": {},
   "outputs": [],
   "source": [
    "#the main type in numpy is ndarray, even seeminglydifferent kinds of arrays are still\n",
    "#ndarray's. "
   ]
  },
  {
   "cell_type": "code",
   "execution_count": 8,
   "id": "95bde3f2-64cb-48ad-a2b6-8a20a8b9554d",
   "metadata": {},
   "outputs": [],
   "source": [
    "# 1 - dimensional array, also called a vector\n",
    "a1 = np.array([1,2,3])\n",
    "# 2 - dimensional array, also referred to as a matrix\n",
    "a2 = np.array([[1,2.0,3.3],\n",
    "               [4,5,6.5]])\n",
    "# 3 - dimensional array also called a matrix as well. \n",
    "a3 = np.array([[[1,2,3],\n",
    "               [4,5,6],\n",
    "               [7,8,9]],\n",
    "              [[10,11,12],\n",
    "               [13,14,15],\n",
    "               [16,17,18]]] )"
   ]
  },
  {
   "cell_type": "code",
   "execution_count": 9,
   "id": "18199a13-38be-45ec-9993-2ed2f4db0e30",
   "metadata": {},
   "outputs": [
    {
     "data": {
      "text/plain": [
       "((3,), 1, dtype('int64'), 3, numpy.ndarray)"
      ]
     },
     "execution_count": 9,
     "metadata": {},
     "output_type": "execute_result"
    }
   ],
   "source": [
    "a1.shape, a1.ndim, a1.dtype,a1.size, type(a1)"
   ]
  },
  {
   "cell_type": "code",
   "execution_count": 10,
   "id": "2e2581b7-eb81-4689-85b0-132e5067350e",
   "metadata": {},
   "outputs": [
    {
     "data": {
      "text/plain": [
       "((2, 3), 2, dtype('float64'), 6, numpy.ndarray)"
      ]
     },
     "execution_count": 10,
     "metadata": {},
     "output_type": "execute_result"
    }
   ],
   "source": [
    "a2.shape, a2.ndim, a2.dtype, a2.size, type(a2)"
   ]
  },
  {
   "cell_type": "code",
   "execution_count": 11,
   "id": "a7b6c049-f904-45e2-a479-b20a79fb748a",
   "metadata": {},
   "outputs": [
    {
     "data": {
      "text/plain": [
       "((2, 3, 3), 3, dtype('int64'), 18, numpy.ndarray)"
      ]
     },
     "execution_count": 11,
     "metadata": {},
     "output_type": "execute_result"
    }
   ],
   "source": [
    "a3.shape, a3.ndim, a3.dtype, a3.size, type(a3)"
   ]
  },
  {
   "cell_type": "code",
   "execution_count": 12,
   "id": "77a45ebc-c062-48fb-9adc-2e0916484a93",
   "metadata": {},
   "outputs": [
    {
     "data": {
      "text/plain": [
       "array([1, 2, 3])"
      ]
     },
     "execution_count": 12,
     "metadata": {},
     "output_type": "execute_result"
    }
   ],
   "source": [
    "a1"
   ]
  },
  {
   "cell_type": "code",
   "execution_count": 13,
   "id": "2d8a254d-8103-409b-8636-15568048e82c",
   "metadata": {},
   "outputs": [
    {
     "data": {
      "text/plain": [
       "array([[1. , 2. , 3.3],\n",
       "       [4. , 5. , 6.5]])"
      ]
     },
     "execution_count": 13,
     "metadata": {},
     "output_type": "execute_result"
    }
   ],
   "source": [
    "a2"
   ]
  },
  {
   "cell_type": "code",
   "execution_count": 14,
   "id": "8509abf2-0f2a-4369-b567-90d4ee24174b",
   "metadata": {},
   "outputs": [
    {
     "data": {
      "text/plain": [
       "array([[[ 1,  2,  3],\n",
       "        [ 4,  5,  6],\n",
       "        [ 7,  8,  9]],\n",
       "\n",
       "       [[10, 11, 12],\n",
       "        [13, 14, 15],\n",
       "        [16, 17, 18]]])"
      ]
     },
     "execution_count": 14,
     "metadata": {},
     "output_type": "execute_result"
    }
   ],
   "source": [
    "a3"
   ]
  },
  {
   "cell_type": "markdown",
   "id": "9ff26169-7df0-4545-a97b-f652e4278c08",
   "metadata": {},
   "source": [
    "\n",
    "![](numpy-anatomy-of-an-array-updated.png)\n"
   ]
  },
  {
   "cell_type": "code",
   "execution_count": 34,
   "id": "e335b07d-f58d-4135-8ee7-79e2866ac942",
   "metadata": {},
   "outputs": [],
   "source": [
    "#credit to MrdBourke for the image "
   ]
  },
  {
   "cell_type": "code",
   "execution_count": 18,
   "id": "d92da629-e9e6-4969-a5f5-edc2de64a824",
   "metadata": {},
   "outputs": [],
   "source": [
    "# Use ![](file path) to insert a photo "
   ]
  },
  {
   "cell_type": "code",
   "execution_count": 19,
   "id": "857892dc-6fcf-4e53-bf70-b9aff068d880",
   "metadata": {},
   "outputs": [],
   "source": [
    "#Key terms "
   ]
  },
  {
   "cell_type": "code",
   "execution_count": 20,
   "id": "90eaba04-49c5-44bc-9482-24510369b01f",
   "metadata": {},
   "outputs": [],
   "source": [
    "# Array = a list of numbers can be multi-deminsional"
   ]
  },
  {
   "cell_type": "code",
   "execution_count": 21,
   "id": "da7a85b4-8537-46b7-ab65-7063f345388e",
   "metadata": {},
   "outputs": [],
   "source": [
    "# Scalar = a single number"
   ]
  },
  {
   "cell_type": "code",
   "execution_count": 22,
   "id": "02c2af6b-9f0e-4165-9f94-6f8d1d7195fc",
   "metadata": {},
   "outputs": [],
   "source": [
    "# Vector = a list of numbers with 1-dimension"
   ]
  },
  {
   "cell_type": "code",
   "execution_count": 23,
   "id": "df40ce70-d8b7-40d3-bcb5-3196de82adbe",
   "metadata": {},
   "outputs": [],
   "source": [
    "# Matrix = A (usually) multi demensional list of numbers "
   ]
  },
  {
   "cell_type": "markdown",
   "id": "c4acb7de-27bc-4d72-85e2-b8edf2c08a1f",
   "metadata": {},
   "source": [
    "# Pandas DataFrame out of NumPy arrays"
   ]
  },
  {
   "cell_type": "code",
   "execution_count": 24,
   "id": "a68e91fe-fe32-4c4a-9126-ec01e5e2c90b",
   "metadata": {},
   "outputs": [],
   "source": [
    "import pandas as pd"
   ]
  },
  {
   "cell_type": "code",
   "execution_count": 25,
   "id": "5f42d8c3-cb55-419b-817c-4da1bc2de7bc",
   "metadata": {},
   "outputs": [
    {
     "data": {
      "text/html": [
       "<div>\n",
       "<style scoped>\n",
       "    .dataframe tbody tr th:only-of-type {\n",
       "        vertical-align: middle;\n",
       "    }\n",
       "\n",
       "    .dataframe tbody tr th {\n",
       "        vertical-align: top;\n",
       "    }\n",
       "\n",
       "    .dataframe thead th {\n",
       "        text-align: right;\n",
       "    }\n",
       "</style>\n",
       "<table border=\"1\" class=\"dataframe\">\n",
       "  <thead>\n",
       "    <tr style=\"text-align: right;\">\n",
       "      <th></th>\n",
       "      <th>a</th>\n",
       "      <th>b</th>\n",
       "      <th>c</th>\n",
       "    </tr>\n",
       "  </thead>\n",
       "  <tbody>\n",
       "    <tr>\n",
       "      <th>0</th>\n",
       "      <td>8</td>\n",
       "      <td>3</td>\n",
       "      <td>4</td>\n",
       "    </tr>\n",
       "    <tr>\n",
       "      <th>1</th>\n",
       "      <td>6</td>\n",
       "      <td>7</td>\n",
       "      <td>3</td>\n",
       "    </tr>\n",
       "    <tr>\n",
       "      <th>2</th>\n",
       "      <td>5</td>\n",
       "      <td>5</td>\n",
       "      <td>5</td>\n",
       "    </tr>\n",
       "    <tr>\n",
       "      <th>3</th>\n",
       "      <td>3</td>\n",
       "      <td>1</td>\n",
       "      <td>8</td>\n",
       "    </tr>\n",
       "    <tr>\n",
       "      <th>4</th>\n",
       "      <td>9</td>\n",
       "      <td>2</td>\n",
       "      <td>0</td>\n",
       "    </tr>\n",
       "  </tbody>\n",
       "</table>\n",
       "</div>"
      ],
      "text/plain": [
       "   a  b  c\n",
       "0  8  3  4\n",
       "1  6  7  3\n",
       "2  5  5  5\n",
       "3  3  1  8\n",
       "4  9  2  0"
      ]
     },
     "execution_count": 25,
     "metadata": {},
     "output_type": "execute_result"
    }
   ],
   "source": [
    "df = pd.DataFrame(np.random.randint(10, size=(5,3)),\n",
    "                  columns=['a', 'b', 'c'])\n",
    "df"
   ]
  },
  {
   "cell_type": "code",
   "execution_count": 26,
   "id": "6b6975d4-51c3-463a-b72c-0139b6feba0d",
   "metadata": {},
   "outputs": [
    {
     "data": {
      "text/plain": [
       "array([[1. , 2. , 3.3],\n",
       "       [4. , 5. , 6.5]])"
      ]
     },
     "execution_count": 26,
     "metadata": {},
     "output_type": "execute_result"
    }
   ],
   "source": [
    "a2"
   ]
  },
  {
   "cell_type": "code",
   "execution_count": 27,
   "id": "4514da23-0600-4043-a062-c6e4eced0e73",
   "metadata": {},
   "outputs": [
    {
     "data": {
      "text/html": [
       "<div>\n",
       "<style scoped>\n",
       "    .dataframe tbody tr th:only-of-type {\n",
       "        vertical-align: middle;\n",
       "    }\n",
       "\n",
       "    .dataframe tbody tr th {\n",
       "        vertical-align: top;\n",
       "    }\n",
       "\n",
       "    .dataframe thead th {\n",
       "        text-align: right;\n",
       "    }\n",
       "</style>\n",
       "<table border=\"1\" class=\"dataframe\">\n",
       "  <thead>\n",
       "    <tr style=\"text-align: right;\">\n",
       "      <th></th>\n",
       "      <th>0</th>\n",
       "      <th>1</th>\n",
       "      <th>2</th>\n",
       "    </tr>\n",
       "  </thead>\n",
       "  <tbody>\n",
       "    <tr>\n",
       "      <th>0</th>\n",
       "      <td>1.0</td>\n",
       "      <td>2.0</td>\n",
       "      <td>3.3</td>\n",
       "    </tr>\n",
       "    <tr>\n",
       "      <th>1</th>\n",
       "      <td>4.0</td>\n",
       "      <td>5.0</td>\n",
       "      <td>6.5</td>\n",
       "    </tr>\n",
       "  </tbody>\n",
       "</table>\n",
       "</div>"
      ],
      "text/plain": [
       "     0    1    2\n",
       "0  1.0  2.0  3.3\n",
       "1  4.0  5.0  6.5"
      ]
     },
     "execution_count": 27,
     "metadata": {},
     "output_type": "execute_result"
    }
   ],
   "source": [
    "df2 = pd.DataFrame(a2)\n",
    "df2"
   ]
  },
  {
   "cell_type": "markdown",
   "id": "65befd1d-2e10-490c-8579-05204fb26212",
   "metadata": {},
   "source": [
    "# Creating Arrays"
   ]
  },
  {
   "cell_type": "code",
   "execution_count": 47,
   "id": "6c515d22-1999-4d29-9649-ec4d02153200",
   "metadata": {},
   "outputs": [
    {
     "data": {
      "text/plain": [
       "(array([1, 2, 3]), dtype('int64'))"
      ]
     },
     "execution_count": 47,
     "metadata": {},
     "output_type": "execute_result"
    }
   ],
   "source": [
    "#np.array()\n",
    "simple_array = np.array([1,2,3])\n",
    "simple_array, simple_array.dtype\n"
   ]
  },
  {
   "cell_type": "code",
   "execution_count": 37,
   "id": "020b44c6-24da-4237-8c58-c9146cb36569",
   "metadata": {},
   "outputs": [
    {
     "data": {
      "text/plain": [
       "(array([[1., 1.],\n",
       "        [1., 1.],\n",
       "        [1., 1.],\n",
       "        [1., 1.],\n",
       "        [1., 1.],\n",
       "        [1., 1.],\n",
       "        [1., 1.],\n",
       "        [1., 1.],\n",
       "        [1., 1.],\n",
       "        [1., 1.]]),\n",
       " dtype('float64'))"
      ]
     },
     "execution_count": 37,
     "metadata": {},
     "output_type": "execute_result"
    }
   ],
   "source": [
    "#np.ones()\n",
    "ones= np.ones((10,2))\n",
    "ones, ones.dtype #defautl data type is float64\n",
    "#ones.astype(int) will change the tyep."
   ]
  },
  {
   "cell_type": "code",
   "execution_count": 38,
   "id": "9260b5cd-c4f3-41c9-a4a9-a3e0906d5366",
   "metadata": {},
   "outputs": [
    {
     "data": {
      "text/plain": [
       "array([[[0., 0., 0.],\n",
       "        [0., 0., 0.],\n",
       "        [0., 0., 0.]],\n",
       "\n",
       "       [[0., 0., 0.],\n",
       "        [0., 0., 0.],\n",
       "        [0., 0., 0.]],\n",
       "\n",
       "       [[0., 0., 0.],\n",
       "        [0., 0., 0.],\n",
       "        [0., 0., 0.]],\n",
       "\n",
       "       [[0., 0., 0.],\n",
       "        [0., 0., 0.],\n",
       "        [0., 0., 0.]],\n",
       "\n",
       "       [[0., 0., 0.],\n",
       "        [0., 0., 0.],\n",
       "        [0., 0., 0.]]])"
      ]
     },
     "execution_count": 38,
     "metadata": {},
     "output_type": "execute_result"
    }
   ],
   "source": [
    "zeros = np.zeros((5,3,3))\n",
    "zeros"
   ]
  },
  {
   "cell_type": "code",
   "execution_count": 40,
   "id": "997cfd1b-af11-44e8-845b-bcb4ced3cf94",
   "metadata": {},
   "outputs": [],
   "source": [
    "#An array with a range of values"
   ]
  },
  {
   "cell_type": "code",
   "execution_count": 43,
   "id": "78d6cc34-155c-48de-af67-9de3d1a02fcb",
   "metadata": {},
   "outputs": [
    {
     "data": {
      "text/plain": [
       "array([0, 2, 4, 6, 8])"
      ]
     },
     "execution_count": 43,
     "metadata": {},
     "output_type": "execute_result"
    }
   ],
   "source": [
    "range_array = np.arange(0, 10, 2)\n",
    "range_array\n",
    "#looking at the output it gives us an array that starts at 0, goes by 2's but stops \n",
    "#before 10"
   ]
  },
  {
   "cell_type": "code",
   "execution_count": 46,
   "id": "dff8962b-2d4c-4561-9de2-10610561445d",
   "metadata": {},
   "outputs": [
    {
     "data": {
      "text/plain": [
       "array([ 0,  4,  8, 12])"
      ]
     },
     "execution_count": 46,
     "metadata": {},
     "output_type": "execute_result"
    }
   ],
   "source": [
    "range_array2 = np.arange(0,16,4)\n",
    "range_array2\n",
    "#lets try again. Looks lik the first number you pass is the beginnign number\n",
    "#the second number is the upper range meaning it ends BEFORE that number\n",
    "#the last number is how it invrements so this range will go by 4's"
   ]
  },
  {
   "cell_type": "code",
   "execution_count": 49,
   "id": "f82aa4b5-74f6-4640-a6c5-9037013540c6",
   "metadata": {},
   "outputs": [
    {
     "data": {
      "text/plain": [
       "array([[9, 5, 2],\n",
       "       [9, 2, 6],\n",
       "       [5, 1, 8],\n",
       "       [0, 3, 8],\n",
       "       [5, 1, 3]])"
      ]
     },
     "execution_count": 49,
     "metadata": {},
     "output_type": "execute_result"
    }
   ],
   "source": [
    "#random array\n",
    "random_array = np.random.randint(10, size=(5,3))\n",
    "random_array"
   ]
  },
  {
   "cell_type": "code",
   "execution_count": 51,
   "id": "cd139033-2999-4675-ac14-9b3286080010",
   "metadata": {},
   "outputs": [],
   "source": [
    "#looking at out array it has the size 5 rows 3 columns, and all the numbers are less\n",
    "#than 10. Lets try another set up"
   ]
  },
  {
   "cell_type": "code",
   "execution_count": 53,
   "id": "50b377ed-9970-4ba5-b757-48515b98db6c",
   "metadata": {},
   "outputs": [
    {
     "data": {
      "text/plain": [
       "array([[8, 6],\n",
       "       [7, 7],\n",
       "       [3, 8],\n",
       "       [7, 4],\n",
       "       [5, 2],\n",
       "       [7, 6],\n",
       "       [3, 4],\n",
       "       [4, 4],\n",
       "       [4, 4],\n",
       "       [2, 7],\n",
       "       [9, 5],\n",
       "       [6, 1],\n",
       "       [8, 3],\n",
       "       [7, 0],\n",
       "       [1, 0]])"
      ]
     },
     "execution_count": 53,
     "metadata": {},
     "output_type": "execute_result"
    }
   ],
   "source": [
    "random_array2 = np.random.randint(10, size = (15,2))\n",
    "random_array2"
   ]
  },
  {
   "cell_type": "code",
   "execution_count": 55,
   "id": "410409a0-8ad6-49e3-83db-907a9c0a5795",
   "metadata": {},
   "outputs": [
    {
     "data": {
      "text/plain": [
       "array([[0.80174317, 0.38601999, 0.05853625],\n",
       "       [0.18172649, 0.76612845, 0.57776808],\n",
       "       [0.37618654, 0.28478245, 0.75257116],\n",
       "       [0.14640062, 0.3029177 , 0.64185093],\n",
       "       [0.26232606, 0.47806164, 0.49495982]])"
      ]
     },
     "execution_count": 55,
     "metadata": {},
     "output_type": "execute_result"
    }
   ],
   "source": [
    "#Random Floats between 0, 1\n",
    "np.random.random((5,3))"
   ]
  },
  {
   "cell_type": "code",
   "execution_count": 59,
   "id": "b188889a-021b-4875-9918-cdc0bf68d9d0",
   "metadata": {},
   "outputs": [
    {
     "data": {
      "text/plain": [
       "array([[0.77830154, 0.67735922, 0.96338264],\n",
       "       [0.02088309, 0.51894293, 0.2580365 ],\n",
       "       [0.55251137, 0.36435373, 0.54422858],\n",
       "       [0.58268314, 0.20743141, 0.93382066],\n",
       "       [0.91600469, 0.56925198, 0.49299174]])"
      ]
     },
     "execution_count": 59,
     "metadata": {},
     "output_type": "execute_result"
    }
   ],
   "source": [
    "#Random 5X3 array of floats similar to above\n",
    "np.random.rand(5,3) # makes sure you pay attention to how the argument is doen"
   ]
  },
  {
   "cell_type": "code",
   "execution_count": null,
   "id": "fe4e4e07-cfc5-4226-8294-dedb9b33d91d",
   "metadata": {},
   "outputs": [],
   "source": [
    "#numpy uses pseudo random numbers. Esentially they look random but are not. for consis"
   ]
  }
 ],
 "metadata": {
  "kernelspec": {
   "display_name": "Python 3 (ipykernel)",
   "language": "python",
   "name": "python3"
  },
  "language_info": {
   "codemirror_mode": {
    "name": "ipython",
    "version": 3
   },
   "file_extension": ".py",
   "mimetype": "text/x-python",
   "name": "python",
   "nbconvert_exporter": "python",
   "pygments_lexer": "ipython3",
   "version": "3.11.5"
  }
 },
 "nbformat": 4,
 "nbformat_minor": 5
}
