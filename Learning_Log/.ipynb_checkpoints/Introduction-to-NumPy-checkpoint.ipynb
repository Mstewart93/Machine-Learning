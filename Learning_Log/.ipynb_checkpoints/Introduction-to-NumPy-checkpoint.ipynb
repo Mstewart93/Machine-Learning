{
 "cells": [
  {
   "cell_type": "code",
   "execution_count": 1,
   "id": "9eaab2a8-0a4a-425e-b89e-e4985d6277a1",
   "metadata": {},
   "outputs": [],
   "source": [
    "import pandas as pd"
   ]
  },
  {
   "cell_type": "code",
   "execution_count": null,
   "id": "b7e0ce73-7b98-4588-bcc7-bdba31d0b7c4",
   "metadata": {},
   "outputs": [],
   "source": []
  },
  {
   "cell_type": "code",
   "execution_count": 2,
   "id": "abb32c6d-88b5-4aeb-b72e-dd2b3de44132",
   "metadata": {},
   "outputs": [
    {
     "name": "stdout",
     "output_type": "stream",
     "text": [
      "Last updated: 2023-12-08 14:34:08.739893\n"
     ]
    }
   ],
   "source": [
    "import datetime\n",
    "print(f\"Last updated: {datetime.datetime.now()}\")"
   ]
  },
  {
   "cell_type": "code",
   "execution_count": 3,
   "id": "36cee518-81f1-4569-b050-a1e4bc67773b",
   "metadata": {},
   "outputs": [],
   "source": [
    "import numpy as np"
   ]
  },
  {
   "cell_type": "code",
   "execution_count": 4,
   "id": "d430b46f-65ce-4c76-bb93-7794b59ac188",
   "metadata": {},
   "outputs": [
    {
     "name": "stdout",
     "output_type": "stream",
     "text": [
      "1.26.2\n"
     ]
    }
   ],
   "source": [
    "print(np.__version__)\n",
    "\n"
   ]
  },
  {
   "cell_type": "markdown",
   "id": "6692b4d0-056f-4813-9d28-993c39b64941",
   "metadata": {},
   "source": [
    "# 1. Data Types and Attributes"
   ]
  },
  {
   "cell_type": "code",
   "execution_count": 5,
   "id": "5352b462-3875-41f3-a1b4-9d2252120a92",
   "metadata": {},
   "outputs": [],
   "source": [
    "#the main type in numpy is ndarray, even seeminglydifferent kinds of arrays are still\n",
    "#ndarray's. "
   ]
  },
  {
   "cell_type": "code",
   "execution_count": 6,
   "id": "95bde3f2-64cb-48ad-a2b6-8a20a8b9554d",
   "metadata": {},
   "outputs": [],
   "source": [
    "# 1 - dimensional array, also called a vector\n",
    "a1 = np.array([1,2,3])\n",
    "# 2 - dimensional array, also referred to as a matrix\n",
    "a2 = np.array([[1,2.0,3.3],\n",
    "               [4,5,6.5]])\n",
    "# 3 - dimensional array also called a matrix as well. \n",
    "a3 = np.array([[[1,2,3],\n",
    "               [4,5,6],\n",
    "               [7,8,9]],\n",
    "              [[10,11,12],\n",
    "               [13,14,15],\n",
    "               [16,17,18]]] )"
   ]
  },
  {
   "cell_type": "code",
   "execution_count": 7,
   "id": "18199a13-38be-45ec-9993-2ed2f4db0e30",
   "metadata": {},
   "outputs": [
    {
     "data": {
      "text/plain": [
       "((3,), 1, dtype('int64'), 3, numpy.ndarray)"
      ]
     },
     "execution_count": 7,
     "metadata": {},
     "output_type": "execute_result"
    }
   ],
   "source": [
    "a1.shape, a1.ndim, a1.dtype,a1.size, type(a1)"
   ]
  },
  {
   "cell_type": "code",
   "execution_count": 8,
   "id": "2e2581b7-eb81-4689-85b0-132e5067350e",
   "metadata": {},
   "outputs": [
    {
     "data": {
      "text/plain": [
       "((2, 3), 2, dtype('float64'), 6, numpy.ndarray)"
      ]
     },
     "execution_count": 8,
     "metadata": {},
     "output_type": "execute_result"
    }
   ],
   "source": [
    "a2.shape, a2.ndim, a2.dtype, a2.size, type(a2)"
   ]
  },
  {
   "cell_type": "code",
   "execution_count": 9,
   "id": "a7b6c049-f904-45e2-a479-b20a79fb748a",
   "metadata": {},
   "outputs": [
    {
     "data": {
      "text/plain": [
       "((2, 3, 3), 3, dtype('int64'), 18, numpy.ndarray)"
      ]
     },
     "execution_count": 9,
     "metadata": {},
     "output_type": "execute_result"
    }
   ],
   "source": [
    "a3.shape, a3.ndim, a3.dtype, a3.size, type(a3)"
   ]
  },
  {
   "cell_type": "code",
   "execution_count": 10,
   "id": "77a45ebc-c062-48fb-9adc-2e0916484a93",
   "metadata": {},
   "outputs": [
    {
     "data": {
      "text/plain": [
       "array([1, 2, 3])"
      ]
     },
     "execution_count": 10,
     "metadata": {},
     "output_type": "execute_result"
    }
   ],
   "source": [
    "a1"
   ]
  },
  {
   "cell_type": "code",
   "execution_count": 11,
   "id": "2d8a254d-8103-409b-8636-15568048e82c",
   "metadata": {},
   "outputs": [
    {
     "data": {
      "text/plain": [
       "array([[1. , 2. , 3.3],\n",
       "       [4. , 5. , 6.5]])"
      ]
     },
     "execution_count": 11,
     "metadata": {},
     "output_type": "execute_result"
    }
   ],
   "source": [
    "a2"
   ]
  },
  {
   "cell_type": "code",
   "execution_count": 12,
   "id": "8509abf2-0f2a-4369-b567-90d4ee24174b",
   "metadata": {},
   "outputs": [
    {
     "data": {
      "text/plain": [
       "array([[[ 1,  2,  3],\n",
       "        [ 4,  5,  6],\n",
       "        [ 7,  8,  9]],\n",
       "\n",
       "       [[10, 11, 12],\n",
       "        [13, 14, 15],\n",
       "        [16, 17, 18]]])"
      ]
     },
     "execution_count": 12,
     "metadata": {},
     "output_type": "execute_result"
    }
   ],
   "source": [
    "a3"
   ]
  },
  {
   "cell_type": "markdown",
   "id": "9ff26169-7df0-4545-a97b-f652e4278c08",
   "metadata": {},
   "source": [
    "\n",
    "![](numpy-anatomy-of-an-array-updated.png)\n"
   ]
  },
  {
   "cell_type": "code",
   "execution_count": 13,
   "id": "e335b07d-f58d-4135-8ee7-79e2866ac942",
   "metadata": {},
   "outputs": [],
   "source": [
    "#credit to MrdBourke for the image "
   ]
  },
  {
   "cell_type": "code",
   "execution_count": 14,
   "id": "d92da629-e9e6-4969-a5f5-edc2de64a824",
   "metadata": {},
   "outputs": [],
   "source": [
    "# Use ![](file path) to insert a photo "
   ]
  },
  {
   "cell_type": "code",
   "execution_count": 15,
   "id": "857892dc-6fcf-4e53-bf70-b9aff068d880",
   "metadata": {},
   "outputs": [],
   "source": [
    "#Key terms "
   ]
  },
  {
   "cell_type": "code",
   "execution_count": 16,
   "id": "90eaba04-49c5-44bc-9482-24510369b01f",
   "metadata": {},
   "outputs": [],
   "source": [
    "# Array = a list of numbers can be multi-deminsional"
   ]
  },
  {
   "cell_type": "code",
   "execution_count": 17,
   "id": "da7a85b4-8537-46b7-ab65-7063f345388e",
   "metadata": {},
   "outputs": [],
   "source": [
    "# Scalar = a single number"
   ]
  },
  {
   "cell_type": "code",
   "execution_count": 18,
   "id": "02c2af6b-9f0e-4165-9f94-6f8d1d7195fc",
   "metadata": {},
   "outputs": [],
   "source": [
    "# Vector = a list of numbers with 1-dimension"
   ]
  },
  {
   "cell_type": "code",
   "execution_count": 19,
   "id": "df40ce70-d8b7-40d3-bcb5-3196de82adbe",
   "metadata": {},
   "outputs": [],
   "source": [
    "# Matrix = A (usually) multi demensional list of numbers "
   ]
  },
  {
   "cell_type": "markdown",
   "id": "c4acb7de-27bc-4d72-85e2-b8edf2c08a1f",
   "metadata": {},
   "source": [
    "# Pandas DataFrame out of NumPy arrays"
   ]
  },
  {
   "cell_type": "code",
   "execution_count": 20,
   "id": "a68e91fe-fe32-4c4a-9126-ec01e5e2c90b",
   "metadata": {},
   "outputs": [],
   "source": [
    "import pandas as pd"
   ]
  },
  {
   "cell_type": "code",
   "execution_count": 21,
   "id": "5f42d8c3-cb55-419b-817c-4da1bc2de7bc",
   "metadata": {},
   "outputs": [
    {
     "data": {
      "text/html": [
       "<div>\n",
       "<style scoped>\n",
       "    .dataframe tbody tr th:only-of-type {\n",
       "        vertical-align: middle;\n",
       "    }\n",
       "\n",
       "    .dataframe tbody tr th {\n",
       "        vertical-align: top;\n",
       "    }\n",
       "\n",
       "    .dataframe thead th {\n",
       "        text-align: right;\n",
       "    }\n",
       "</style>\n",
       "<table border=\"1\" class=\"dataframe\">\n",
       "  <thead>\n",
       "    <tr style=\"text-align: right;\">\n",
       "      <th></th>\n",
       "      <th>a</th>\n",
       "      <th>b</th>\n",
       "      <th>c</th>\n",
       "    </tr>\n",
       "  </thead>\n",
       "  <tbody>\n",
       "    <tr>\n",
       "      <th>0</th>\n",
       "      <td>4</td>\n",
       "      <td>4</td>\n",
       "      <td>5</td>\n",
       "    </tr>\n",
       "    <tr>\n",
       "      <th>1</th>\n",
       "      <td>6</td>\n",
       "      <td>1</td>\n",
       "      <td>9</td>\n",
       "    </tr>\n",
       "    <tr>\n",
       "      <th>2</th>\n",
       "      <td>9</td>\n",
       "      <td>6</td>\n",
       "      <td>8</td>\n",
       "    </tr>\n",
       "    <tr>\n",
       "      <th>3</th>\n",
       "      <td>1</td>\n",
       "      <td>5</td>\n",
       "      <td>1</td>\n",
       "    </tr>\n",
       "    <tr>\n",
       "      <th>4</th>\n",
       "      <td>7</td>\n",
       "      <td>8</td>\n",
       "      <td>3</td>\n",
       "    </tr>\n",
       "  </tbody>\n",
       "</table>\n",
       "</div>"
      ],
      "text/plain": [
       "   a  b  c\n",
       "0  4  4  5\n",
       "1  6  1  9\n",
       "2  9  6  8\n",
       "3  1  5  1\n",
       "4  7  8  3"
      ]
     },
     "execution_count": 21,
     "metadata": {},
     "output_type": "execute_result"
    }
   ],
   "source": [
    "df = pd.DataFrame(np.random.randint(10, size=(5,3)),\n",
    "                  columns=['a', 'b', 'c'])\n",
    "df"
   ]
  },
  {
   "cell_type": "code",
   "execution_count": 22,
   "id": "6b6975d4-51c3-463a-b72c-0139b6feba0d",
   "metadata": {},
   "outputs": [
    {
     "data": {
      "text/plain": [
       "array([[1. , 2. , 3.3],\n",
       "       [4. , 5. , 6.5]])"
      ]
     },
     "execution_count": 22,
     "metadata": {},
     "output_type": "execute_result"
    }
   ],
   "source": [
    "a2"
   ]
  },
  {
   "cell_type": "code",
   "execution_count": 23,
   "id": "4514da23-0600-4043-a062-c6e4eced0e73",
   "metadata": {},
   "outputs": [
    {
     "data": {
      "text/html": [
       "<div>\n",
       "<style scoped>\n",
       "    .dataframe tbody tr th:only-of-type {\n",
       "        vertical-align: middle;\n",
       "    }\n",
       "\n",
       "    .dataframe tbody tr th {\n",
       "        vertical-align: top;\n",
       "    }\n",
       "\n",
       "    .dataframe thead th {\n",
       "        text-align: right;\n",
       "    }\n",
       "</style>\n",
       "<table border=\"1\" class=\"dataframe\">\n",
       "  <thead>\n",
       "    <tr style=\"text-align: right;\">\n",
       "      <th></th>\n",
       "      <th>0</th>\n",
       "      <th>1</th>\n",
       "      <th>2</th>\n",
       "    </tr>\n",
       "  </thead>\n",
       "  <tbody>\n",
       "    <tr>\n",
       "      <th>0</th>\n",
       "      <td>1.0</td>\n",
       "      <td>2.0</td>\n",
       "      <td>3.3</td>\n",
       "    </tr>\n",
       "    <tr>\n",
       "      <th>1</th>\n",
       "      <td>4.0</td>\n",
       "      <td>5.0</td>\n",
       "      <td>6.5</td>\n",
       "    </tr>\n",
       "  </tbody>\n",
       "</table>\n",
       "</div>"
      ],
      "text/plain": [
       "     0    1    2\n",
       "0  1.0  2.0  3.3\n",
       "1  4.0  5.0  6.5"
      ]
     },
     "execution_count": 23,
     "metadata": {},
     "output_type": "execute_result"
    }
   ],
   "source": [
    "df2 = pd.DataFrame(a2)\n",
    "df2"
   ]
  },
  {
   "cell_type": "markdown",
   "id": "65befd1d-2e10-490c-8579-05204fb26212",
   "metadata": {},
   "source": [
    "# Creating Arrays"
   ]
  },
  {
   "cell_type": "code",
   "execution_count": 24,
   "id": "6c515d22-1999-4d29-9649-ec4d02153200",
   "metadata": {},
   "outputs": [
    {
     "data": {
      "text/plain": [
       "(array([1, 2, 3]), dtype('int64'))"
      ]
     },
     "execution_count": 24,
     "metadata": {},
     "output_type": "execute_result"
    }
   ],
   "source": [
    "#np.array()\n",
    "simple_array = np.array([1,2,3])\n",
    "simple_array, simple_array.dtype\n"
   ]
  },
  {
   "cell_type": "code",
   "execution_count": 25,
   "id": "020b44c6-24da-4237-8c58-c9146cb36569",
   "metadata": {},
   "outputs": [
    {
     "data": {
      "text/plain": [
       "(array([[1., 1.],\n",
       "        [1., 1.],\n",
       "        [1., 1.],\n",
       "        [1., 1.],\n",
       "        [1., 1.],\n",
       "        [1., 1.],\n",
       "        [1., 1.],\n",
       "        [1., 1.],\n",
       "        [1., 1.],\n",
       "        [1., 1.]]),\n",
       " dtype('float64'))"
      ]
     },
     "execution_count": 25,
     "metadata": {},
     "output_type": "execute_result"
    }
   ],
   "source": [
    "#np.ones()\n",
    "ones= np.ones((10,2))\n",
    "ones, ones.dtype #defautl data type is float64\n",
    "#ones.astype(int) will change the tyep."
   ]
  },
  {
   "cell_type": "code",
   "execution_count": 26,
   "id": "9260b5cd-c4f3-41c9-a4a9-a3e0906d5366",
   "metadata": {},
   "outputs": [
    {
     "data": {
      "text/plain": [
       "array([[[0., 0., 0.],\n",
       "        [0., 0., 0.],\n",
       "        [0., 0., 0.]],\n",
       "\n",
       "       [[0., 0., 0.],\n",
       "        [0., 0., 0.],\n",
       "        [0., 0., 0.]],\n",
       "\n",
       "       [[0., 0., 0.],\n",
       "        [0., 0., 0.],\n",
       "        [0., 0., 0.]],\n",
       "\n",
       "       [[0., 0., 0.],\n",
       "        [0., 0., 0.],\n",
       "        [0., 0., 0.]],\n",
       "\n",
       "       [[0., 0., 0.],\n",
       "        [0., 0., 0.],\n",
       "        [0., 0., 0.]]])"
      ]
     },
     "execution_count": 26,
     "metadata": {},
     "output_type": "execute_result"
    }
   ],
   "source": [
    "zeros = np.zeros((5,3,3))\n",
    "zeros"
   ]
  },
  {
   "cell_type": "code",
   "execution_count": 27,
   "id": "997cfd1b-af11-44e8-845b-bcb4ced3cf94",
   "metadata": {},
   "outputs": [],
   "source": [
    "#An array with a range of values"
   ]
  },
  {
   "cell_type": "code",
   "execution_count": 28,
   "id": "78d6cc34-155c-48de-af67-9de3d1a02fcb",
   "metadata": {},
   "outputs": [
    {
     "data": {
      "text/plain": [
       "array([0, 2, 4, 6, 8])"
      ]
     },
     "execution_count": 28,
     "metadata": {},
     "output_type": "execute_result"
    }
   ],
   "source": [
    "range_array = np.arange(0, 10, 2)\n",
    "range_array\n",
    "#looking at the output it gives us an array that starts at 0, goes by 2's but stops \n",
    "#before 10"
   ]
  },
  {
   "cell_type": "code",
   "execution_count": 29,
   "id": "dff8962b-2d4c-4561-9de2-10610561445d",
   "metadata": {},
   "outputs": [
    {
     "data": {
      "text/plain": [
       "array([ 0,  4,  8, 12])"
      ]
     },
     "execution_count": 29,
     "metadata": {},
     "output_type": "execute_result"
    }
   ],
   "source": [
    "range_array2 = np.arange(0,16,4)\n",
    "range_array2\n",
    "#lets try again. Looks lik the first number you pass is the beginnign number\n",
    "#the second number is the upper range meaning it ends BEFORE that number\n",
    "#the last number is how it invrements so this range will go by 4's"
   ]
  },
  {
   "cell_type": "code",
   "execution_count": 30,
   "id": "f82aa4b5-74f6-4640-a6c5-9037013540c6",
   "metadata": {},
   "outputs": [
    {
     "data": {
      "text/plain": [
       "array([[2, 0, 4],\n",
       "       [9, 6, 6],\n",
       "       [5, 5, 1],\n",
       "       [1, 9, 0],\n",
       "       [3, 6, 8]])"
      ]
     },
     "execution_count": 30,
     "metadata": {},
     "output_type": "execute_result"
    }
   ],
   "source": [
    "#random array\n",
    "random_array = np.random.randint(10, size=(5,3))\n",
    "random_array"
   ]
  },
  {
   "cell_type": "code",
   "execution_count": 31,
   "id": "cd139033-2999-4675-ac14-9b3286080010",
   "metadata": {},
   "outputs": [],
   "source": [
    "#looking at out array it has the size 5 rows 3 columns, and all the numbers are less\n",
    "#than 10. Lets try another set up"
   ]
  },
  {
   "cell_type": "code",
   "execution_count": 32,
   "id": "50b377ed-9970-4ba5-b757-48515b98db6c",
   "metadata": {},
   "outputs": [
    {
     "data": {
      "text/plain": [
       "array([[5, 9],\n",
       "       [1, 9],\n",
       "       [4, 0],\n",
       "       [3, 1],\n",
       "       [1, 7],\n",
       "       [9, 2],\n",
       "       [6, 4],\n",
       "       [2, 0],\n",
       "       [4, 2],\n",
       "       [9, 5],\n",
       "       [2, 6],\n",
       "       [7, 1],\n",
       "       [5, 9],\n",
       "       [7, 5],\n",
       "       [2, 8]])"
      ]
     },
     "execution_count": 32,
     "metadata": {},
     "output_type": "execute_result"
    }
   ],
   "source": [
    "random_array2 = np.random.randint(10, size = (15,2))\n",
    "random_array2"
   ]
  },
  {
   "cell_type": "code",
   "execution_count": 33,
   "id": "410409a0-8ad6-49e3-83db-907a9c0a5795",
   "metadata": {},
   "outputs": [
    {
     "data": {
      "text/plain": [
       "array([[0.57577384, 0.30934885, 0.6874872 ],\n",
       "       [0.37199782, 0.25359541, 0.76257517],\n",
       "       [0.50850043, 0.66588839, 0.72440221],\n",
       "       [0.02220078, 0.27253447, 0.92929662],\n",
       "       [0.1875653 , 0.33882752, 0.60497321]])"
      ]
     },
     "execution_count": 33,
     "metadata": {},
     "output_type": "execute_result"
    }
   ],
   "source": [
    "#Random Floats between 0, 1\n",
    "np.random.random((5,3))"
   ]
  },
  {
   "cell_type": "code",
   "execution_count": 34,
   "id": "b188889a-021b-4875-9918-cdc0bf68d9d0",
   "metadata": {},
   "outputs": [
    {
     "data": {
      "text/plain": [
       "array([[0.28776405, 0.77519866, 0.93815584],\n",
       "       [0.55047693, 0.07544452, 0.43047836],\n",
       "       [0.89464956, 0.10533339, 0.1157348 ],\n",
       "       [0.65183984, 0.31814686, 0.38487551],\n",
       "       [0.54951248, 0.79171289, 0.77628354]])"
      ]
     },
     "execution_count": 34,
     "metadata": {},
     "output_type": "execute_result"
    }
   ],
   "source": [
    "#Random 5X3 array of floats similar to above\n",
    "np.random.rand(5,3) # makes sure you pay attention to how the argument is doen"
   ]
  },
  {
   "cell_type": "code",
   "execution_count": 35,
   "id": "fe4e4e07-cfc5-4226-8294-dedb9b33d91d",
   "metadata": {},
   "outputs": [],
   "source": [
    "#numpy uses pseudo random numbers. Esentially they look random but are not. for consistancy\n",
    "#you can keep the random numbers you generate similar throughout experiments. to do this\n",
    "#use np.random.see()\n",
    "#this tells NumPy I want random numbers aligned to this seed."
   ]
  },
  {
   "cell_type": "code",
   "execution_count": 36,
   "id": "c31e696d-91c7-4f95-9b39-afa1e6823776",
   "metadata": {},
   "outputs": [
    {
     "data": {
      "text/plain": [
       "array([[5, 0, 3],\n",
       "       [3, 7, 9],\n",
       "       [3, 5, 2],\n",
       "       [4, 7, 6],\n",
       "       [8, 8, 1]])"
      ]
     },
     "execution_count": 36,
     "metadata": {},
     "output_type": "execute_result"
    }
   ],
   "source": [
    "#set random seed to 0\n",
    "np.random.seed(0)\n",
    "#make \"random\" numbers\n",
    "np.random.randint(10, size=(5,3))"
   ]
  },
  {
   "cell_type": "code",
   "execution_count": 37,
   "id": "907c4be1-f157-4a53-8161-769217f7e2d9",
   "metadata": {},
   "outputs": [],
   "source": [
    "#now because of seed being in the cell everytime you run it you will get same random\n",
    "#numbers"
   ]
  },
  {
   "cell_type": "code",
   "execution_count": 38,
   "id": "0a46a7ea-c892-4ca1-aa7c-b73fa3c51cbe",
   "metadata": {},
   "outputs": [],
   "source": [
    "#because random.seed is set to 0 the random numbers are the same as the cell with \n",
    "#np.random.seed() set to 0 as well.\n",
    "#setting the seed is not 100% needed but it is helpful to keep numers the same throughout\n",
    "#say you wanted two sets of data training and test sets. everytime you randomly split \n",
    "# you might get diff rows in eah set if you shared it theyd get diff rows too\n",
    "#setting np.random.seed() ensures theres still randomness it just makes the randomness \n",
    "#repeatable "
   ]
  },
  {
   "cell_type": "code",
   "execution_count": 39,
   "id": "8652fc4a-7e1d-46f8-8a5d-185c390ec625",
   "metadata": {},
   "outputs": [
    {
     "data": {
      "text/html": [
       "<div>\n",
       "<style scoped>\n",
       "    .dataframe tbody tr th:only-of-type {\n",
       "        vertical-align: middle;\n",
       "    }\n",
       "\n",
       "    .dataframe tbody tr th {\n",
       "        vertical-align: top;\n",
       "    }\n",
       "\n",
       "    .dataframe thead th {\n",
       "        text-align: right;\n",
       "    }\n",
       "</style>\n",
       "<table border=\"1\" class=\"dataframe\">\n",
       "  <thead>\n",
       "    <tr style=\"text-align: right;\">\n",
       "      <th></th>\n",
       "      <th>0</th>\n",
       "      <th>1</th>\n",
       "      <th>2</th>\n",
       "    </tr>\n",
       "  </thead>\n",
       "  <tbody>\n",
       "    <tr>\n",
       "      <th>0</th>\n",
       "      <td>5</td>\n",
       "      <td>0</td>\n",
       "      <td>3</td>\n",
       "    </tr>\n",
       "    <tr>\n",
       "      <th>1</th>\n",
       "      <td>3</td>\n",
       "      <td>7</td>\n",
       "      <td>9</td>\n",
       "    </tr>\n",
       "    <tr>\n",
       "      <th>2</th>\n",
       "      <td>3</td>\n",
       "      <td>5</td>\n",
       "      <td>2</td>\n",
       "    </tr>\n",
       "    <tr>\n",
       "      <th>3</th>\n",
       "      <td>4</td>\n",
       "      <td>7</td>\n",
       "      <td>6</td>\n",
       "    </tr>\n",
       "    <tr>\n",
       "      <th>4</th>\n",
       "      <td>8</td>\n",
       "      <td>8</td>\n",
       "      <td>1</td>\n",
       "    </tr>\n",
       "  </tbody>\n",
       "</table>\n",
       "</div>"
      ],
      "text/plain": [
       "   0  1  2\n",
       "0  5  0  3\n",
       "1  3  7  9\n",
       "2  3  5  2\n",
       "3  4  7  6\n",
       "4  8  8  1"
      ]
     },
     "execution_count": 39,
     "metadata": {},
     "output_type": "execute_result"
    }
   ],
   "source": [
    "np.random.seed(0)\n",
    "df = pd.DataFrame(np.random.randint(10, size=(5,3)))\n",
    "df\n"
   ]
  },
  {
   "cell_type": "markdown",
   "id": "e3bf1c8c-5760-42ae-8ab7-6edaca57b16b",
   "metadata": {},
   "source": [
    "# What unique values are in array a3"
   ]
  },
  {
   "cell_type": "code",
   "execution_count": 40,
   "id": "d45560ef-d086-4a01-9dbc-8b5203d2a467",
   "metadata": {},
   "outputs": [
    {
     "data": {
      "text/plain": [
       "array([ 1,  2,  3,  4,  5,  6,  7,  8,  9, 10, 11, 12, 13, 14, 15, 16, 17,\n",
       "       18])"
      ]
     },
     "execution_count": 40,
     "metadata": {},
     "output_type": "execute_result"
    }
   ],
   "source": [
    "np.unique(a3)"
   ]
  },
  {
   "cell_type": "markdown",
   "id": "dca96b7c-f403-49d2-9186-594a3474bbaa",
   "metadata": {},
   "source": [
    "# 3. Viewing arrays and matrices(indexing)"
   ]
  },
  {
   "cell_type": "code",
   "execution_count": 41,
   "id": "0d0cfbae-bb0c-45bd-8d3c-1e52c2dad2d6",
   "metadata": {},
   "outputs": [
    {
     "data": {
      "text/plain": [
       "array([1, 2, 3])"
      ]
     },
     "execution_count": 41,
     "metadata": {},
     "output_type": "execute_result"
    }
   ],
   "source": [
    "a1"
   ]
  },
  {
   "cell_type": "code",
   "execution_count": 42,
   "id": "4cc82520-1471-44dc-80c2-cbd9318c829a",
   "metadata": {},
   "outputs": [
    {
     "data": {
      "text/plain": [
       "array([[1. , 2. , 3.3],\n",
       "       [4. , 5. , 6.5]])"
      ]
     },
     "execution_count": 42,
     "metadata": {},
     "output_type": "execute_result"
    }
   ],
   "source": [
    "a2"
   ]
  },
  {
   "cell_type": "code",
   "execution_count": 43,
   "id": "c9b55083-2209-42c3-ad53-54c90b7f969a",
   "metadata": {},
   "outputs": [
    {
     "data": {
      "text/plain": [
       "array([[[ 1,  2,  3],\n",
       "        [ 4,  5,  6],\n",
       "        [ 7,  8,  9]],\n",
       "\n",
       "       [[10, 11, 12],\n",
       "        [13, 14, 15],\n",
       "        [16, 17, 18]]])"
      ]
     },
     "execution_count": 43,
     "metadata": {},
     "output_type": "execute_result"
    }
   ],
   "source": [
    "a3"
   ]
  },
  {
   "cell_type": "code",
   "execution_count": 44,
   "id": "e2e414e3-010a-45bd-9e69-6f240c8d0c79",
   "metadata": {},
   "outputs": [],
   "source": [
    "#array shaes are always listed in the format (row, column, n,n,,n) where \n",
    "# n = optinal extra dimenssions"
   ]
  },
  {
   "cell_type": "code",
   "execution_count": 45,
   "id": "6b1c2a0a-7b37-46d5-8b4b-cdcae432109a",
   "metadata": {},
   "outputs": [
    {
     "data": {
      "text/plain": [
       "1"
      ]
     },
     "execution_count": 45,
     "metadata": {},
     "output_type": "execute_result"
    }
   ],
   "source": [
    "a1[0]"
   ]
  },
  {
   "cell_type": "code",
   "execution_count": 46,
   "id": "c9a795b8-2e90-40e1-9339-b0236d0bf0a4",
   "metadata": {},
   "outputs": [
    {
     "data": {
      "text/plain": [
       "array([1. , 2. , 3.3])"
      ]
     },
     "execution_count": 46,
     "metadata": {},
     "output_type": "execute_result"
    }
   ],
   "source": [
    "a2[0]"
   ]
  },
  {
   "cell_type": "code",
   "execution_count": 47,
   "id": "f0fc7efe-d377-42bd-ae70-eca0ed556271",
   "metadata": {},
   "outputs": [
    {
     "data": {
      "text/plain": [
       "array([[1, 2, 3],\n",
       "       [4, 5, 6],\n",
       "       [7, 8, 9]])"
      ]
     },
     "execution_count": 47,
     "metadata": {},
     "output_type": "execute_result"
    }
   ],
   "source": [
    "a3[0]"
   ]
  },
  {
   "cell_type": "code",
   "execution_count": 48,
   "id": "a94e1f43-de36-413c-a9b3-5b0ebef1602b",
   "metadata": {},
   "outputs": [
    {
     "data": {
      "text/plain": [
       "array([4. , 5. , 6.5])"
      ]
     },
     "execution_count": 48,
     "metadata": {},
     "output_type": "execute_result"
    }
   ],
   "source": [
    "#if we wanted th 2nd row(index 1) of a2\n",
    "a2[1]"
   ]
  },
  {
   "cell_type": "code",
   "execution_count": 49,
   "id": "f33418b9-7ec7-44b3-ac4e-56f2d52a9ef8",
   "metadata": {},
   "outputs": [
    {
     "data": {
      "text/plain": [
       "array([[[ 1,  2],\n",
       "        [ 4,  5]],\n",
       "\n",
       "       [[10, 11],\n",
       "        [13, 14]]])"
      ]
     },
     "execution_count": 49,
     "metadata": {},
     "output_type": "execute_result"
    }
   ],
   "source": [
    "#what about the first 2 values of the first 2 rows of both arrays\n",
    "a3[:2, :2,:2]"
   ]
  },
  {
   "cell_type": "code",
   "execution_count": 50,
   "id": "aeb723ec-9b9f-45da-9687-19f106a4c8dc",
   "metadata": {},
   "outputs": [],
   "source": [
    "#NumPy arrays get printed from outside to inside. This means the number at the end of\n",
    "#the shape comes first and the number at the start of the shape comes last."
   ]
  },
  {
   "cell_type": "code",
   "execution_count": 51,
   "id": "b4bf9032-523f-47a2-a93a-bdb02603a679",
   "metadata": {},
   "outputs": [
    {
     "data": {
      "text/plain": [
       "array([[[[6, 7, 7, 8, 1],\n",
       "         [5, 9, 8, 9, 4],\n",
       "         [3, 0, 3, 5, 0],\n",
       "         [2, 3, 8, 1, 3]],\n",
       "\n",
       "        [[3, 3, 7, 0, 1],\n",
       "         [9, 9, 0, 4, 7],\n",
       "         [3, 2, 7, 2, 0],\n",
       "         [0, 4, 5, 5, 6]],\n",
       "\n",
       "        [[8, 4, 1, 4, 9],\n",
       "         [8, 1, 1, 7, 9],\n",
       "         [9, 3, 6, 7, 2],\n",
       "         [0, 3, 5, 9, 4]]],\n",
       "\n",
       "\n",
       "       [[[4, 6, 4, 4, 3],\n",
       "         [4, 4, 8, 4, 3],\n",
       "         [7, 5, 5, 0, 1],\n",
       "         [5, 9, 3, 0, 5]],\n",
       "\n",
       "        [[0, 1, 2, 4, 2],\n",
       "         [0, 3, 2, 0, 7],\n",
       "         [5, 9, 0, 2, 7],\n",
       "         [2, 9, 2, 3, 3]],\n",
       "\n",
       "        [[2, 3, 4, 1, 2],\n",
       "         [9, 1, 4, 6, 8],\n",
       "         [2, 3, 0, 0, 6],\n",
       "         [0, 6, 3, 3, 8]]]])"
      ]
     },
     "execution_count": 51,
     "metadata": {},
     "output_type": "execute_result"
    }
   ],
   "source": [
    "a4 = np.random.randint(10, size=(2,3,4,5))\n",
    "a4"
   ]
  },
  {
   "cell_type": "code",
   "execution_count": 52,
   "id": "3b67010c-8c20-467e-9189-add76af33007",
   "metadata": {},
   "outputs": [
    {
     "data": {
      "text/plain": [
       "(2, 3, 4, 5)"
      ]
     },
     "execution_count": 52,
     "metadata": {},
     "output_type": "execute_result"
    }
   ],
   "source": [
    "a4.shape"
   ]
  },
  {
   "cell_type": "code",
   "execution_count": 53,
   "id": "4767dd4b-24e4-4a34-9e75-65aea214f28c",
   "metadata": {},
   "outputs": [
    {
     "data": {
      "text/plain": [
       "array([[[[6, 7, 7, 8],\n",
       "         [5, 9, 8, 9],\n",
       "         [3, 0, 3, 5],\n",
       "         [2, 3, 8, 1]],\n",
       "\n",
       "        [[3, 3, 7, 0],\n",
       "         [9, 9, 0, 4],\n",
       "         [3, 2, 7, 2],\n",
       "         [0, 4, 5, 5]],\n",
       "\n",
       "        [[8, 4, 1, 4],\n",
       "         [8, 1, 1, 7],\n",
       "         [9, 3, 6, 7],\n",
       "         [0, 3, 5, 9]]],\n",
       "\n",
       "\n",
       "       [[[4, 6, 4, 4],\n",
       "         [4, 4, 8, 4],\n",
       "         [7, 5, 5, 0],\n",
       "         [5, 9, 3, 0]],\n",
       "\n",
       "        [[0, 1, 2, 4],\n",
       "         [0, 3, 2, 0],\n",
       "         [5, 9, 0, 2],\n",
       "         [2, 9, 2, 3]],\n",
       "\n",
       "        [[2, 3, 4, 1],\n",
       "         [9, 1, 4, 6],\n",
       "         [2, 3, 0, 0],\n",
       "         [0, 6, 3, 3]]]])"
      ]
     },
     "execution_count": 53,
     "metadata": {},
     "output_type": "execute_result"
    }
   ],
   "source": [
    "#get only the first 4 numbers of each single vector\n",
    "a4[:,:,:,:4]"
   ]
  },
  {
   "cell_type": "code",
   "execution_count": 54,
   "id": "47ee2b2b-a0c2-4ba6-ae72-200a34888337",
   "metadata": {},
   "outputs": [],
   "source": [
    "#a4's shape is (2,3,4,5) this means it gets displayed like so:\n",
    "# inner most array = size 5 there is 5 columns accross\n",
    "# next array size = 4 (there is 4 rows in each set,\n",
    "#next array = size 3 theres 3 [[ chunkcs withint the 2\n",
    "#outer most array = size 2  (the chunck of [[[ brackets theirs 2"
   ]
  },
  {
   "cell_type": "markdown",
   "id": "6790741d-dcd5-4970-a2a1-7401346ba4ea",
   "metadata": {},
   "source": [
    "# Manipulating and comparing Arrays"
   ]
  },
  {
   "cell_type": "code",
   "execution_count": 55,
   "id": "00d4685c-32c5-4fac-967e-9aab4c253323",
   "metadata": {},
   "outputs": [],
   "source": [
    "#Arithmetic\n",
    "# +,1,*,/,//,**,%\n",
    "#np.exp()\n",
    "#np.log()\n",
    "#np.dot()\n",
    "#broadcasting"
   ]
  },
  {
   "cell_type": "code",
   "execution_count": 56,
   "id": "348b03f5-dac2-4ebd-9bbf-8ea6aa5b78fd",
   "metadata": {},
   "outputs": [
    {
     "data": {
      "text/plain": [
       "array([1, 2, 3])"
      ]
     },
     "execution_count": 56,
     "metadata": {},
     "output_type": "execute_result"
    }
   ],
   "source": [
    "a1"
   ]
  },
  {
   "cell_type": "code",
   "execution_count": 57,
   "id": "9a9107e6-7b6a-443f-8ee5-97eaff4d903f",
   "metadata": {},
   "outputs": [
    {
     "data": {
      "text/plain": [
       "array([1., 1., 1.])"
      ]
     },
     "execution_count": 57,
     "metadata": {},
     "output_type": "execute_result"
    }
   ],
   "source": [
    "ones = np.ones(3)\n",
    "ones"
   ]
  },
  {
   "cell_type": "code",
   "execution_count": 58,
   "id": "802a0568-8f7f-4dd7-a67a-8f97d6f9d0d4",
   "metadata": {},
   "outputs": [
    {
     "data": {
      "text/plain": [
       "array([2., 3., 4.])"
      ]
     },
     "execution_count": 58,
     "metadata": {},
     "output_type": "execute_result"
    }
   ],
   "source": [
    "#lets add them together \n",
    "a1 + ones"
   ]
  },
  {
   "cell_type": "code",
   "execution_count": 59,
   "id": "6d274345-390f-4f9c-8a8c-c3a1d4118d44",
   "metadata": {},
   "outputs": [
    {
     "data": {
      "text/plain": [
       "array([0., 1., 2.])"
      ]
     },
     "execution_count": 59,
     "metadata": {},
     "output_type": "execute_result"
    }
   ],
   "source": [
    "#subtract\n",
    "a1 - ones"
   ]
  },
  {
   "cell_type": "code",
   "execution_count": 60,
   "id": "a895e6a6-c7a0-4478-9a35-146276d8e126",
   "metadata": {},
   "outputs": [
    {
     "data": {
      "text/plain": [
       "array([1., 2., 3.])"
      ]
     },
     "execution_count": 60,
     "metadata": {},
     "output_type": "execute_result"
    }
   ],
   "source": [
    "#multiply\n",
    "a1 * ones"
   ]
  },
  {
   "cell_type": "code",
   "execution_count": 61,
   "id": "9690a2aa-7e75-419a-81d7-391b12330538",
   "metadata": {},
   "outputs": [
    {
     "data": {
      "text/plain": [
       "((3,), (2, 3))"
      ]
     },
     "execution_count": 61,
     "metadata": {},
     "output_type": "execute_result"
    }
   ],
   "source": [
    "a1.shape, a2.shape"
   ]
  },
  {
   "cell_type": "code",
   "execution_count": 62,
   "id": "20652ab7-c245-4070-84d3-e74c0ef04114",
   "metadata": {},
   "outputs": [
    {
     "data": {
      "text/plain": [
       "(3,)"
      ]
     },
     "execution_count": 62,
     "metadata": {},
     "output_type": "execute_result"
    }
   ],
   "source": [
    "ones.shape"
   ]
  },
  {
   "cell_type": "code",
   "execution_count": 63,
   "id": "ea5d15d9-2c5c-4587-b389-b2c22fb299ca",
   "metadata": {},
   "outputs": [],
   "source": [
    "#in order to multiply they need to be the same shape"
   ]
  },
  {
   "cell_type": "code",
   "execution_count": 64,
   "id": "16579833-e807-4a1f-9413-a097a9b6adb3",
   "metadata": {},
   "outputs": [
    {
     "data": {
      "text/plain": [
       "array([[[ 1,  2,  3],\n",
       "        [ 4,  5,  6],\n",
       "        [ 7,  8,  9]],\n",
       "\n",
       "       [[10, 11, 12],\n",
       "        [13, 14, 15],\n",
       "        [16, 17, 18]]])"
      ]
     },
     "execution_count": 64,
     "metadata": {},
     "output_type": "execute_result"
    }
   ],
   "source": [
    "a3"
   ]
  },
  {
   "cell_type": "code",
   "execution_count": 65,
   "id": "43126223-271e-44ce-9345-8ff5011749db",
   "metadata": {},
   "outputs": [],
   "source": [
    "#broadcasting\n",
    "#this is when you perform actions across multi demension\n",
    "#for example if you want to add a 3X3 to a 1X3 they will add all of the 1X3 to all \n",
    "#of 3X3"
   ]
  },
  {
   "cell_type": "code",
   "execution_count": 66,
   "id": "dd5f03e0-bf3e-4166-891f-b11f59717df9",
   "metadata": {},
   "outputs": [],
   "source": [
    "#RULES\n",
    "# A. if the two arrays differ in their dimensions the shape of one with fewer dimensions\n",
    "# is padded with the ones on its leading (left) side"
   ]
  },
  {
   "cell_type": "code",
   "execution_count": 67,
   "id": "c3c5f2e1-b091-4735-94db-2d6a60c7135e",
   "metadata": {},
   "outputs": [],
   "source": [
    "# B. if the shape of the two arrays does not match in any dimension, the array with\n",
    "# the shape equal to 1 in that dimension is stretched to match to the other shape.\n"
   ]
  },
  {
   "cell_type": "code",
   "execution_count": 68,
   "id": "ab527bcf-7368-4bce-9504-dbd5dc44bd88",
   "metadata": {},
   "outputs": [],
   "source": [
    "# C. if in any dimension the sizes disgree and neither is equal to 1, an error is raised"
   ]
  },
  {
   "cell_type": "code",
   "execution_count": 69,
   "id": "6d46d1c1-6154-4cc7-babd-9a04f2b61cb3",
   "metadata": {},
   "outputs": [],
   "source": [
    "#The broadcasting rule: In order to broadcast, the size of the trailing axes for \n",
    "#both arrays in an operation must be either the same size or one of them must be one."
   ]
  },
  {
   "cell_type": "code",
   "execution_count": 70,
   "id": "05b3ba7d-1942-4c7d-a3db-af042758d063",
   "metadata": {},
   "outputs": [
    {
     "data": {
      "text/plain": [
       "array([1, 2, 3])"
      ]
     },
     "execution_count": 70,
     "metadata": {},
     "output_type": "execute_result"
    }
   ],
   "source": [
    "a1"
   ]
  },
  {
   "cell_type": "code",
   "execution_count": 71,
   "id": "95e13e15-e83a-43ac-85a7-bd0cb6186490",
   "metadata": {},
   "outputs": [
    {
     "data": {
      "text/plain": [
       "(3,)"
      ]
     },
     "execution_count": 71,
     "metadata": {},
     "output_type": "execute_result"
    }
   ],
   "source": [
    "a1.shape"
   ]
  },
  {
   "cell_type": "code",
   "execution_count": 72,
   "id": "b2bab613-0075-4194-bb37-38a29f2375c1",
   "metadata": {},
   "outputs": [
    {
     "data": {
      "text/plain": [
       "(2, 3)"
      ]
     },
     "execution_count": 72,
     "metadata": {},
     "output_type": "execute_result"
    }
   ],
   "source": [
    "a2.shape"
   ]
  },
  {
   "cell_type": "code",
   "execution_count": 73,
   "id": "d0f65c2c-9b0d-4c0b-9f75-699b60260371",
   "metadata": {},
   "outputs": [
    {
     "data": {
      "text/plain": [
       "array([[1. , 2. , 3.3],\n",
       "       [4. , 5. , 6.5]])"
      ]
     },
     "execution_count": 73,
     "metadata": {},
     "output_type": "execute_result"
    }
   ],
   "source": [
    "a2"
   ]
  },
  {
   "cell_type": "code",
   "execution_count": 74,
   "id": "76970555-6e63-4028-9ea3-54b11f263e21",
   "metadata": {},
   "outputs": [
    {
     "data": {
      "text/plain": [
       "array([[2. , 4. , 6.3],\n",
       "       [5. , 7. , 9.5]])"
      ]
     },
     "execution_count": 74,
     "metadata": {},
     "output_type": "execute_result"
    }
   ],
   "source": [
    "a1 + a2"
   ]
  },
  {
   "cell_type": "code",
   "execution_count": 75,
   "id": "0061525d-73c9-4d18-ac54-7c26c7c75e14",
   "metadata": {},
   "outputs": [
    {
     "data": {
      "text/plain": [
       "array([[3. , 4. , 5.3],\n",
       "       [6. , 7. , 8.5]])"
      ]
     },
     "execution_count": 75,
     "metadata": {},
     "output_type": "execute_result"
    }
   ],
   "source": [
    "a2 + 2"
   ]
  },
  {
   "cell_type": "code",
   "execution_count": 76,
   "id": "57bd91f5-8b69-4319-a879-e3da7c74432c",
   "metadata": {},
   "outputs": [
    {
     "data": {
      "text/plain": [
       "array([[1. , 2. , 3.3],\n",
       "       [4. , 5. , 6.5]])"
      ]
     },
     "execution_count": 76,
     "metadata": {},
     "output_type": "execute_result"
    }
   ],
   "source": [
    "#divide\n",
    "a2/ones"
   ]
  },
  {
   "cell_type": "code",
   "execution_count": 77,
   "id": "4fd29a47-3257-48b6-b69f-d5969b8ef4d1",
   "metadata": {},
   "outputs": [
    {
     "data": {
      "text/plain": [
       "array([[1., 1., 1.],\n",
       "       [4., 2., 2.]])"
      ]
     },
     "execution_count": 77,
     "metadata": {},
     "output_type": "execute_result"
    }
   ],
   "source": [
    "#divide using floor division\n",
    "a2//a1"
   ]
  },
  {
   "cell_type": "code",
   "execution_count": 78,
   "id": "9bda3ff7-890c-4e19-a334-7ae8df0f2765",
   "metadata": {},
   "outputs": [
    {
     "data": {
      "text/plain": [
       "array([1, 4, 9])"
      ]
     },
     "execution_count": 78,
     "metadata": {},
     "output_type": "execute_result"
    }
   ],
   "source": [
    "#take an array to a power\n",
    "a1 ** 2"
   ]
  },
  {
   "cell_type": "code",
   "execution_count": 79,
   "id": "6246114f-be98-4585-b4e1-3b142d9e6513",
   "metadata": {},
   "outputs": [
    {
     "data": {
      "text/plain": [
       "array([1, 4, 9])"
      ]
     },
     "execution_count": 79,
     "metadata": {},
     "output_type": "execute_result"
    }
   ],
   "source": [
    "#you can also use np.square()\n",
    "np.square(a1)"
   ]
  },
  {
   "cell_type": "code",
   "execution_count": 80,
   "id": "d0442802-5ff7-47eb-a21b-dd4ac20b7d98",
   "metadata": {},
   "outputs": [
    {
     "data": {
      "text/plain": [
       "array([1, 0, 1])"
      ]
     },
     "execution_count": 80,
     "metadata": {},
     "output_type": "execute_result"
    }
   ],
   "source": [
    "#Modulus divide (what's the remainder)\n",
    "a1 % 2"
   ]
  },
  {
   "cell_type": "code",
   "execution_count": 81,
   "id": "3b782e7b-60b1-48ca-b8f0-8493fa7738cd",
   "metadata": {},
   "outputs": [
    {
     "data": {
      "text/plain": [
       "array([0.        , 0.69314718, 1.09861229])"
      ]
     },
     "execution_count": 81,
     "metadata": {},
     "output_type": "execute_result"
    }
   ],
   "source": [
    "#log\n",
    "np.log(a1)\n"
   ]
  },
  {
   "cell_type": "code",
   "execution_count": 82,
   "id": "f91c84e6-26e4-4142-bdbb-1563afb93135",
   "metadata": {},
   "outputs": [
    {
     "data": {
      "text/plain": [
       "array([ 2.71828183,  7.3890561 , 20.08553692])"
      ]
     },
     "execution_count": 82,
     "metadata": {},
     "output_type": "execute_result"
    }
   ],
   "source": [
    "#exponential\n",
    "np.exp(a1)"
   ]
  },
  {
   "cell_type": "code",
   "execution_count": 83,
   "id": "d1ec8d86-f388-49eb-804e-95b635f56271",
   "metadata": {},
   "outputs": [],
   "source": [
    "# Aggregation\n",
    "#np.sum() faster than Pythons .sum() for NumPy arrays\n",
    "#np.mean()\n",
    "#np.std()\n",
    "#np.var()\n",
    "#np.min()\n",
    "#np.max()\n",
    "#np.argmin()\n",
    "#np.argmax()\n",
    "#these all work on ndarrays\n",
    "    #a4.min(axis=0) can use axis as well."
   ]
  },
  {
   "cell_type": "code",
   "execution_count": 84,
   "id": "c0d798db-3a15-4df3-a18b-8d5d7dc004f4",
   "metadata": {},
   "outputs": [],
   "source": [
    "# this brings things together doing a similar thing on a number of thignss"
   ]
  },
  {
   "cell_type": "code",
   "execution_count": 85,
   "id": "d82b2ffd-7daa-4d65-b787-a1907aa503ab",
   "metadata": {},
   "outputs": [
    {
     "data": {
      "text/plain": [
       "6"
      ]
     },
     "execution_count": 85,
     "metadata": {},
     "output_type": "execute_result"
    }
   ],
   "source": [
    "sum(a1)"
   ]
  },
  {
   "cell_type": "code",
   "execution_count": 86,
   "id": "5cae0a42-3421-4b36-959a-eb5d12620448",
   "metadata": {},
   "outputs": [
    {
     "data": {
      "text/plain": [
       "6"
      ]
     },
     "execution_count": 86,
     "metadata": {},
     "output_type": "execute_result"
    }
   ],
   "source": [
    "np.sum(a1)"
   ]
  },
  {
   "cell_type": "code",
   "execution_count": 87,
   "id": "2111b76d-7d8d-4017-828f-914c77b6cb1d",
   "metadata": {},
   "outputs": [],
   "source": [
    "# TIP Use NumPys np.sum() on NumPy arrays and pythons sum() on PYTHON lists"
   ]
  },
  {
   "cell_type": "code",
   "execution_count": 88,
   "id": "a13b5844-3409-427e-92d4-99d7938ae70a",
   "metadata": {},
   "outputs": [
    {
     "data": {
      "text/plain": [
       "(100000, numpy.ndarray)"
      ]
     },
     "execution_count": 88,
     "metadata": {},
     "output_type": "execute_result"
    }
   ],
   "source": [
    "massive_array = np.random.random(100000)\n",
    "massive_array.size, type(massive_array)"
   ]
  },
  {
   "cell_type": "code",
   "execution_count": 89,
   "id": "4b0ecf23-0b0b-482b-aa4e-70f3340993db",
   "metadata": {},
   "outputs": [
    {
     "name": "stdout",
     "output_type": "stream",
     "text": [
      "11 ms ± 733 µs per loop (mean ± std. dev. of 7 runs, 100 loops each)\n",
      "57.4 µs ± 4.37 µs per loop (mean ± std. dev. of 7 runs, 10,000 loops each)\n"
     ]
    }
   ],
   "source": [
    "%timeit sum(massive_array) #pyton sum()\n",
    "%timeit np.sum(massive_array) #NumPy np.sum()"
   ]
  },
  {
   "cell_type": "code",
   "execution_count": 90,
   "id": "5984a9a7-daa2-495a-ad0e-fbb5c84324bb",
   "metadata": {},
   "outputs": [
    {
     "data": {
      "text/plain": [
       "(100000, list)"
      ]
     },
     "execution_count": 90,
     "metadata": {},
     "output_type": "execute_result"
    }
   ],
   "source": [
    "import random\n",
    "massive_list = [random.randint(0, 10) for i in range(100000)]\n",
    "len(massive_list), type(massive_list)"
   ]
  },
  {
   "cell_type": "code",
   "execution_count": 91,
   "id": "3de27c7b-79c2-435e-8fcf-6d3167dde634",
   "metadata": {},
   "outputs": [
    {
     "data": {
      "text/plain": [
       "[0, 1, 8, 10, 10, 8, 4, 6, 4, 6]"
      ]
     },
     "execution_count": 91,
     "metadata": {},
     "output_type": "execute_result"
    }
   ],
   "source": [
    "massive_list[:10]"
   ]
  },
  {
   "cell_type": "code",
   "execution_count": 92,
   "id": "e42f083c-6a7b-426a-83b5-fbf25e8521e4",
   "metadata": {},
   "outputs": [
    {
     "name": "stdout",
     "output_type": "stream",
     "text": [
      "973 µs ± 44.7 µs per loop (mean ± std. dev. of 7 runs, 1,000 loops each)\n",
      "6.73 ms ± 351 µs per loop (mean ± std. dev. of 7 runs, 100 loops each)\n"
     ]
    }
   ],
   "source": [
    "%timeit sum(massive_list)\n",
    "%timeit np.sum(massive_list)"
   ]
  },
  {
   "cell_type": "code",
   "execution_count": 93,
   "id": "ad9e8c7a-1c77-43ea-a93d-130d3b825c1c",
   "metadata": {},
   "outputs": [],
   "source": [
    "#numpys np.sum is still fast but pythons sum() is faster on ythons list "
   ]
  },
  {
   "cell_type": "code",
   "execution_count": 94,
   "id": "5c9d4cf5-2e05-4cd3-8c9b-255a7ca792f9",
   "metadata": {},
   "outputs": [
    {
     "data": {
      "text/plain": [
       "array([[1. , 2. , 3.3],\n",
       "       [4. , 5. , 6.5]])"
      ]
     },
     "execution_count": 94,
     "metadata": {},
     "output_type": "execute_result"
    }
   ],
   "source": [
    "a2"
   ]
  },
  {
   "cell_type": "code",
   "execution_count": 95,
   "id": "4ce11554-432c-4b27-9b31-bbb36283ffe7",
   "metadata": {},
   "outputs": [],
   "source": [
    "#find the mean/average"
   ]
  },
  {
   "cell_type": "code",
   "execution_count": 96,
   "id": "45df321c-b8c8-464e-a8df-efbcdb13ac3a",
   "metadata": {},
   "outputs": [
    {
     "data": {
      "text/plain": [
       "3.6333333333333333"
      ]
     },
     "execution_count": 96,
     "metadata": {},
     "output_type": "execute_result"
    }
   ],
   "source": [
    "np.mean(a2)"
   ]
  },
  {
   "cell_type": "code",
   "execution_count": 97,
   "id": "61e4c321-3af8-4ea9-87d9-0909d9aab539",
   "metadata": {},
   "outputs": [
    {
     "data": {
      "text/plain": [
       "6.5"
      ]
     },
     "execution_count": 97,
     "metadata": {},
     "output_type": "execute_result"
    }
   ],
   "source": [
    "#find the max\n",
    "np.max(a2)"
   ]
  },
  {
   "cell_type": "code",
   "execution_count": 98,
   "id": "af118493-8cc7-4017-88fd-91558231e4d7",
   "metadata": {},
   "outputs": [
    {
     "data": {
      "text/plain": [
       "1.0"
      ]
     },
     "execution_count": 98,
     "metadata": {},
     "output_type": "execute_result"
    }
   ],
   "source": [
    "#find the min\n",
    "np.min(a2)"
   ]
  },
  {
   "cell_type": "code",
   "execution_count": 99,
   "id": "3517cf33-8a9a-40a5-84ea-4e9861d7b993",
   "metadata": {},
   "outputs": [
    {
     "data": {
      "text/plain": [
       "1.8226964152656422"
      ]
     },
     "execution_count": 99,
     "metadata": {},
     "output_type": "execute_result"
    }
   ],
   "source": [
    "#find the standard deviation / spread of the numbers\n",
    "np.std(a2)"
   ]
  },
  {
   "cell_type": "code",
   "execution_count": 100,
   "id": "d60c1711-6aa7-4e12-aad8-d7894e73a3c9",
   "metadata": {},
   "outputs": [
    {
     "data": {
      "text/plain": [
       "3.3222222222222224"
      ]
     },
     "execution_count": 100,
     "metadata": {},
     "output_type": "execute_result"
    }
   ],
   "source": [
    "#find the variance (finds the  mean for each number then subracts mean form all number,\n",
    "#then squares the result and finds the average of quared differences. \n",
    "np.var(a2)"
   ]
  },
  {
   "cell_type": "code",
   "execution_count": 101,
   "id": "97e70191-e8e8-468b-b6df-7382b03f2e07",
   "metadata": {},
   "outputs": [
    {
     "data": {
      "text/plain": [
       "1.8226964152656422"
      ]
     },
     "execution_count": 101,
     "metadata": {},
     "output_type": "execute_result"
    }
   ],
   "source": [
    "#the standard deviation is the square root of the variance\n",
    "np.sqrt(np.var(a2))"
   ]
  },
  {
   "cell_type": "code",
   "execution_count": 102,
   "id": "a6a29e0b-74c2-4659-aa4d-661dc808763a",
   "metadata": {},
   "outputs": [
    {
     "data": {
      "text/plain": [
       "array([[1. , 2. , 3.3],\n",
       "       [4. , 5. , 6.5]])"
      ]
     },
     "execution_count": 102,
     "metadata": {},
     "output_type": "execute_result"
    }
   ],
   "source": [
    "#reshaping\n",
    "#np.reshape()\n",
    "a2"
   ]
  },
  {
   "cell_type": "code",
   "execution_count": 103,
   "id": "8b88777e-75a1-47de-95b1-5fe148116b7d",
   "metadata": {},
   "outputs": [
    {
     "data": {
      "text/plain": [
       "(2, 3)"
      ]
     },
     "execution_count": 103,
     "metadata": {},
     "output_type": "execute_result"
    }
   ],
   "source": [
    "a2.shape"
   ]
  },
  {
   "cell_type": "code",
   "execution_count": 104,
   "id": "70d9987a-dd89-41e5-b0fe-b500bbdb8221",
   "metadata": {},
   "outputs": [
    {
     "ename": "ValueError",
     "evalue": "operands could not be broadcast together with shapes (2,3) (2,3,3) ",
     "output_type": "error",
     "traceback": [
      "\u001b[0;31m---------------------------------------------------------------------------\u001b[0m",
      "\u001b[0;31mValueError\u001b[0m                                Traceback (most recent call last)",
      "Cell \u001b[0;32mIn[104], line 1\u001b[0m\n\u001b[0;32m----> 1\u001b[0m a2 \u001b[38;5;241m+\u001b[39m a3\n",
      "\u001b[0;31mValueError\u001b[0m: operands could not be broadcast together with shapes (2,3) (2,3,3) "
     ]
    }
   ],
   "source": [
    "a2 + a3"
   ]
  },
  {
   "cell_type": "code",
   "execution_count": null,
   "id": "d67e4ec8-a1b9-4188-b9ec-8c7f9e4554a3",
   "metadata": {},
   "outputs": [],
   "source": [
    "#gives error so we need to"
   ]
  },
  {
   "cell_type": "code",
   "execution_count": null,
   "id": "dd3b706f-8e5f-4245-be0d-4a2a5b4d9112",
   "metadata": {},
   "outputs": [],
   "source": [
    "a2.reshape(2,3,1)"
   ]
  },
  {
   "cell_type": "code",
   "execution_count": null,
   "id": "fe1ad36c-8a59-4895-a35a-4b55dac4f664",
   "metadata": {},
   "outputs": [],
   "source": [
    "a2.reshape(2,3,1) + a3"
   ]
  },
  {
   "cell_type": "code",
   "execution_count": null,
   "id": "179f061a-ec35-4528-823a-e77a37b3a397",
   "metadata": {},
   "outputs": [],
   "source": [
    "#transposing\n",
    "#a3.T"
   ]
  },
  {
   "cell_type": "code",
   "execution_count": null,
   "id": "f1d49082-37dd-4f81-a132-dd156817d6de",
   "metadata": {},
   "outputs": [],
   "source": [
    "#transpose reverses the order of the axes (2,3) goes to (3,2)\n"
   ]
  },
  {
   "cell_type": "code",
   "execution_count": null,
   "id": "2e177583-f1c7-4c19-a081-2ce6cc95d7bf",
   "metadata": {},
   "outputs": [],
   "source": [
    "a2.shape"
   ]
  },
  {
   "cell_type": "code",
   "execution_count": null,
   "id": "9dd89fb2-33ae-4553-b6ff-83b70d38b21e",
   "metadata": {},
   "outputs": [],
   "source": [
    "a2.T"
   ]
  },
  {
   "cell_type": "code",
   "execution_count": null,
   "id": "2bd64d96-e79f-494d-8279-c9c74b5e6768",
   "metadata": {},
   "outputs": [],
   "source": [
    "a2.transpose()"
   ]
  },
  {
   "cell_type": "code",
   "execution_count": null,
   "id": "bdfe9d0b-ac6c-4e63-b6f0-d8d021424f1a",
   "metadata": {},
   "outputs": [],
   "source": [
    "a2.T.shape"
   ]
  },
  {
   "cell_type": "code",
   "execution_count": null,
   "id": "b588c8a5-d3bc-4e49-b3b2-3b61650943a5",
   "metadata": {},
   "outputs": [],
   "source": [
    "#for bigger ones the default is to transpose first and last"
   ]
  },
  {
   "cell_type": "code",
   "execution_count": 105,
   "id": "9b5624f6-43ee-4302-b8aa-e63749b04b9f",
   "metadata": {},
   "outputs": [
    {
     "data": {
      "text/plain": [
       "array([[[0.59816399, 0.17370251, 0.49752936],\n",
       "        [0.51231935, 0.41529741, 0.44150892],\n",
       "        [0.96844105, 0.23242417, 0.90336451]],\n",
       "\n",
       "       [[0.35172075, 0.56481088, 0.57771134],\n",
       "        [0.73115238, 0.88762934, 0.37368847],\n",
       "        [0.35104994, 0.11873224, 0.72324236]],\n",
       "\n",
       "       [[0.93202688, 0.09600718, 0.4330638 ],\n",
       "        [0.71979707, 0.06689016, 0.20815443],\n",
       "        [0.55415679, 0.08416165, 0.88953996]],\n",
       "\n",
       "       [[0.00301345, 0.30163886, 0.12337636],\n",
       "        [0.13435611, 0.51987339, 0.05418991],\n",
       "        [0.11426417, 0.19005404, 0.61364183]],\n",
       "\n",
       "       [[0.23385887, 0.13555752, 0.32546415],\n",
       "        [0.81922614, 0.94551446, 0.12975713],\n",
       "        [0.35431267, 0.37758386, 0.07987885]]])"
      ]
     },
     "execution_count": 105,
     "metadata": {},
     "output_type": "execute_result"
    }
   ],
   "source": [
    "matrix = np.random.random(size=(5,3,3))\n",
    "matrix"
   ]
  },
  {
   "cell_type": "markdown",
   "id": "3ae38b3a-d32f-4d9d-b419-0e20d7a4c020",
   "metadata": {},
   "source": [
    "matrix.shape"
   ]
  },
  {
   "cell_type": "code",
   "execution_count": 106,
   "id": "87cb3ff7-ff7b-4439-b410-4502f0872b1f",
   "metadata": {},
   "outputs": [
    {
     "data": {
      "text/plain": [
       "array([[[0.59816399, 0.35172075, 0.93202688, 0.00301345, 0.23385887],\n",
       "        [0.51231935, 0.73115238, 0.71979707, 0.13435611, 0.81922614],\n",
       "        [0.96844105, 0.35104994, 0.55415679, 0.11426417, 0.35431267]],\n",
       "\n",
       "       [[0.17370251, 0.56481088, 0.09600718, 0.30163886, 0.13555752],\n",
       "        [0.41529741, 0.88762934, 0.06689016, 0.51987339, 0.94551446],\n",
       "        [0.23242417, 0.11873224, 0.08416165, 0.19005404, 0.37758386]],\n",
       "\n",
       "       [[0.49752936, 0.57771134, 0.4330638 , 0.12337636, 0.32546415],\n",
       "        [0.44150892, 0.37368847, 0.20815443, 0.05418991, 0.12975713],\n",
       "        [0.90336451, 0.72324236, 0.88953996, 0.61364183, 0.07987885]]])"
      ]
     },
     "execution_count": 106,
     "metadata": {},
     "output_type": "execute_result"
    }
   ],
   "source": [
    "matrix.T\n"
   ]
  },
  {
   "cell_type": "code",
   "execution_count": 107,
   "id": "e0c29730-455b-46cc-8cd5-78ddddfe6a3a",
   "metadata": {},
   "outputs": [
    {
     "data": {
      "text/plain": [
       "(3, 3, 5)"
      ]
     },
     "execution_count": 107,
     "metadata": {},
     "output_type": "execute_result"
    }
   ],
   "source": [
    "matrix.T.shape"
   ]
  },
  {
   "cell_type": "code",
   "execution_count": 108,
   "id": "c714d4a2-6848-4106-a87e-0089525c5a6b",
   "metadata": {},
   "outputs": [
    {
     "data": {
      "text/plain": [
       "True"
      ]
     },
     "execution_count": 108,
     "metadata": {},
     "output_type": "execute_result"
    }
   ],
   "source": [
    "matrix.T.shape == matrix.shape[::-1]"
   ]
  },
  {
   "cell_type": "code",
   "execution_count": null,
   "id": "08cfc4c3-e852-42ee-88a1-81b28e3e6e6e",
   "metadata": {},
   "outputs": [],
   "source": []
  },
  {
   "cell_type": "markdown",
   "id": "3ae5d12a-2de1-49bc-9207-86fadb84fda7",
   "metadata": {},
   "source": [
    "# dot product\n"
   ]
  },
  {
   "cell_type": "code",
   "execution_count": null,
   "id": "037c423d-f948-4a2a-bfdd-c86c2cbd9b12",
   "metadata": {},
   "outputs": [],
   "source": [
    "#inner dimensoins munst match\n",
    "# (3,2) @ (3,2) wont work\n",
    "# (2,3) @ (3,2) will work"
   ]
  },
  {
   "cell_type": "code",
   "execution_count": null,
   "id": "fed3db56-7005-4d0b-a21f-838b06bb1358",
   "metadata": {},
   "outputs": [],
   "source": [
    "#the resulting matrix has the shape of the outer dimensions.\n",
    "#(2,3) @ (3,2) -> (2,2)"
   ]
  },
  {
   "cell_type": "code",
   "execution_count": 109,
   "id": "92247e36-ee68-41f5-8a18-fdcb1cf5b4b3",
   "metadata": {},
   "outputs": [],
   "source": [
    "#NumPy np.dot() and @ can be used the samefor 1-2 dimension arrays, but 3+ they will differ"
   ]
  },
  {
   "cell_type": "code",
   "execution_count": 110,
   "id": "c7b89253-4d9e-4b1a-984b-1b9f2d310f4b",
   "metadata": {},
   "outputs": [
    {
     "data": {
      "text/plain": [
       "((3, 3), (3, 2))"
      ]
     },
     "execution_count": 110,
     "metadata": {},
     "output_type": "execute_result"
    }
   ],
   "source": [
    "np.random.seed(0)\n",
    "mat1 = np.random.randint(10, size=(3,3))\n",
    "mat2 = np.random.randint(10, size=(3,2))\n",
    "\n",
    "mat1.shape, mat2.shape"
   ]
  },
  {
   "cell_type": "code",
   "execution_count": 111,
   "id": "ee8b9c6c-226e-4a0d-ad36-12b4f87e024d",
   "metadata": {},
   "outputs": [
    {
     "data": {
      "text/plain": [
       "array([[5, 0, 3],\n",
       "       [3, 7, 9],\n",
       "       [3, 5, 2]])"
      ]
     },
     "execution_count": 111,
     "metadata": {},
     "output_type": "execute_result"
    }
   ],
   "source": [
    "mat1"
   ]
  },
  {
   "cell_type": "code",
   "execution_count": 112,
   "id": "82202223-167f-4c4d-a51f-7a723ccae7fa",
   "metadata": {},
   "outputs": [
    {
     "data": {
      "text/plain": [
       "array([[4, 7],\n",
       "       [6, 8],\n",
       "       [8, 1]])"
      ]
     },
     "execution_count": 112,
     "metadata": {},
     "output_type": "execute_result"
    }
   ],
   "source": [
    "mat2"
   ]
  },
  {
   "cell_type": "markdown",
   "id": "0ada23d2-d2bd-411d-9524-5f5e1839a637",
   "metadata": {},
   "source": [
    "np.dot(mat1,mat2)"
   ]
  },
  {
   "cell_type": "code",
   "execution_count": 113,
   "id": "eeb4abbf-ac11-48f4-92e3-d67b4068d06e",
   "metadata": {},
   "outputs": [
    {
     "data": {
      "text/plain": [
       "array([[ 44,  38],\n",
       "       [126,  86],\n",
       "       [ 58,  63]])"
      ]
     },
     "execution_count": 113,
     "metadata": {},
     "output_type": "execute_result"
    }
   ],
   "source": [
    "mat1 @ mat2"
   ]
  },
  {
   "cell_type": "code",
   "execution_count": null,
   "id": "bdf8f763-cbfd-4a2b-b25f-b2786c0b66e1",
   "metadata": {},
   "outputs": [],
   "source": []
  },
  {
   "cell_type": "code",
   "execution_count": null,
   "id": "34447eac-bcda-44a8-b2ee-2d858a6cfffa",
   "metadata": {},
   "outputs": [],
   "source": []
  },
  {
   "cell_type": "code",
   "execution_count": 114,
   "id": "a42d0ccf-44c9-413c-9de5-6455b9bd0375",
   "metadata": {},
   "outputs": [],
   "source": [
    "#comparison operators\n",
    "# >< <= >= x != 3 x==3 np.sum(x>3)\n"
   ]
  },
  {
   "cell_type": "code",
   "execution_count": 115,
   "id": "d35ea3b8-6602-4c19-a3e8-2fbe60ef1e81",
   "metadata": {},
   "outputs": [
    {
     "data": {
      "text/plain": [
       "array([1, 2, 3])"
      ]
     },
     "execution_count": 115,
     "metadata": {},
     "output_type": "execute_result"
    }
   ],
   "source": [
    "a1"
   ]
  },
  {
   "cell_type": "code",
   "execution_count": 116,
   "id": "489ee45f-94de-4053-88d0-4893e03d48a3",
   "metadata": {},
   "outputs": [
    {
     "data": {
      "text/plain": [
       "array([[1. , 2. , 3.3],\n",
       "       [4. , 5. , 6.5]])"
      ]
     },
     "execution_count": 116,
     "metadata": {},
     "output_type": "execute_result"
    }
   ],
   "source": [
    "a2"
   ]
  },
  {
   "cell_type": "code",
   "execution_count": 117,
   "id": "8ed56102-3751-4769-b8e8-bef214c8463a",
   "metadata": {},
   "outputs": [
    {
     "data": {
      "text/plain": [
       "array([[[ 1,  2,  3],\n",
       "        [ 4,  5,  6],\n",
       "        [ 7,  8,  9]],\n",
       "\n",
       "       [[10, 11, 12],\n",
       "        [13, 14, 15],\n",
       "        [16, 17, 18]]])"
      ]
     },
     "execution_count": 117,
     "metadata": {},
     "output_type": "execute_result"
    }
   ],
   "source": [
    "a3"
   ]
  },
  {
   "cell_type": "code",
   "execution_count": 118,
   "id": "7273de47-1ef2-42ba-9a40-32046ea6b3d2",
   "metadata": {},
   "outputs": [
    {
     "data": {
      "text/plain": [
       "array([[False, False, False],\n",
       "       [False, False, False]])"
      ]
     },
     "execution_count": 118,
     "metadata": {},
     "output_type": "execute_result"
    }
   ],
   "source": [
    "a1 > a2"
   ]
  },
  {
   "cell_type": "code",
   "execution_count": 119,
   "id": "e31a57a7-16f6-42b8-9555-3723a830501f",
   "metadata": {},
   "outputs": [
    {
     "data": {
      "text/plain": [
       "array([[ True,  True, False],\n",
       "       [False, False, False]])"
      ]
     },
     "execution_count": 119,
     "metadata": {},
     "output_type": "execute_result"
    }
   ],
   "source": [
    "a1 >= a2"
   ]
  },
  {
   "cell_type": "code",
   "execution_count": 120,
   "id": "e1c90a2e-8cb0-424a-872e-939b219e1fad",
   "metadata": {},
   "outputs": [
    {
     "data": {
      "text/plain": [
       "array([False, False, False])"
      ]
     },
     "execution_count": 120,
     "metadata": {},
     "output_type": "execute_result"
    }
   ],
   "source": [
    "a1 > 5"
   ]
  },
  {
   "cell_type": "code",
   "execution_count": 121,
   "id": "3c807ffc-8e6b-406e-9b4e-d880f8c82c78",
   "metadata": {},
   "outputs": [
    {
     "data": {
      "text/plain": [
       "array([ True,  True,  True])"
      ]
     },
     "execution_count": 121,
     "metadata": {},
     "output_type": "execute_result"
    }
   ],
   "source": [
    "a1 == a1"
   ]
  },
  {
   "cell_type": "code",
   "execution_count": 122,
   "id": "1e0e0026-795f-409b-b262-c07010ee42a1",
   "metadata": {},
   "outputs": [
    {
     "data": {
      "text/plain": [
       "array([[ True,  True, False],\n",
       "       [False, False, False]])"
      ]
     },
     "execution_count": 122,
     "metadata": {},
     "output_type": "execute_result"
    }
   ],
   "source": [
    "a1 == a2\n"
   ]
  },
  {
   "cell_type": "markdown",
   "id": "27e21768-c489-42b4-b1d0-f351c6a91924",
   "metadata": {},
   "source": [
    "# Sorting Arrays"
   ]
  },
  {
   "cell_type": "code",
   "execution_count": 123,
   "id": "abfd9d03-a48b-4534-8acf-29b772063da1",
   "metadata": {},
   "outputs": [
    {
     "data": {
      "text/plain": [
       "array([[2, 0, 4],\n",
       "       [9, 6, 6],\n",
       "       [5, 5, 1],\n",
       "       [1, 9, 0],\n",
       "       [3, 6, 8]])"
      ]
     },
     "execution_count": 123,
     "metadata": {},
     "output_type": "execute_result"
    }
   ],
   "source": [
    "random_array"
   ]
  },
  {
   "cell_type": "code",
   "execution_count": 124,
   "id": "cce0b7fb-e33e-489d-b453-0d230e645d9f",
   "metadata": {},
   "outputs": [
    {
     "data": {
      "text/plain": [
       "array([[0, 2, 4],\n",
       "       [6, 6, 9],\n",
       "       [1, 5, 5],\n",
       "       [0, 1, 9],\n",
       "       [3, 6, 8]])"
      ]
     },
     "execution_count": 124,
     "metadata": {},
     "output_type": "execute_result"
    }
   ],
   "source": [
    "np.sort(random_array)\n"
   ]
  },
  {
   "cell_type": "code",
   "execution_count": 125,
   "id": "1b953821-33f7-4b18-ad21-89ce967558ba",
   "metadata": {},
   "outputs": [
    {
     "data": {
      "text/plain": [
       "array([[1, 0, 2],\n",
       "       [1, 2, 0],\n",
       "       [2, 0, 1],\n",
       "       [2, 0, 1],\n",
       "       [0, 1, 2]])"
      ]
     },
     "execution_count": 125,
     "metadata": {},
     "output_type": "execute_result"
    }
   ],
   "source": [
    "np.argsort(random_array)"
   ]
  },
  {
   "cell_type": "code",
   "execution_count": 126,
   "id": "68642368-f489-427a-bde7-10b09c52cb09",
   "metadata": {},
   "outputs": [
    {
     "data": {
      "text/plain": [
       "array([1, 2, 3])"
      ]
     },
     "execution_count": 126,
     "metadata": {},
     "output_type": "execute_result"
    }
   ],
   "source": [
    "a1"
   ]
  },
  {
   "cell_type": "code",
   "execution_count": null,
   "id": "644f30e7-8ea2-4101-8482-a4865d1c0197",
   "metadata": {},
   "outputs": [],
   "source": []
  }
 ],
 "metadata": {
  "kernelspec": {
   "display_name": "Python 3 (ipykernel)",
   "language": "python",
   "name": "python3"
  },
  "language_info": {
   "codemirror_mode": {
    "name": "ipython",
    "version": 3
   },
   "file_extension": ".py",
   "mimetype": "text/x-python",
   "name": "python",
   "nbconvert_exporter": "python",
   "pygments_lexer": "ipython3",
   "version": "3.11.5"
  }
 },
 "nbformat": 4,
 "nbformat_minor": 5
}
