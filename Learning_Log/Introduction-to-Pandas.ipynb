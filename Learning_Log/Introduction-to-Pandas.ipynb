{
 "cells": [
  {
   "cell_type": "code",
   "execution_count": 1,
   "id": "b1975a45-a410-4235-81af-47d2e267dd1f",
   "metadata": {},
   "outputs": [],
   "source": [
    "import pandas as pd"
   ]
  },
  {
   "cell_type": "code",
   "execution_count": 2,
   "id": "de647517-fb37-4cf6-9599-19d8b40bf0d6",
   "metadata": {},
   "outputs": [],
   "source": [
    "# two main data types\n",
    "series = pd.Series([\"BMW\", \"Toyota\", \"Honda\"])"
   ]
  },
  {
   "cell_type": "code",
   "execution_count": 3,
   "id": "e8401d1f-6ac3-465d-85d1-8ceacfc65b6b",
   "metadata": {},
   "outputs": [
    {
     "data": {
      "text/plain": [
       "0       BMW\n",
       "1    Toyota\n",
       "2     Honda\n",
       "dtype: object"
      ]
     },
     "execution_count": 3,
     "metadata": {},
     "output_type": "execute_result"
    }
   ],
   "source": [
    "series"
   ]
  },
  {
   "cell_type": "code",
   "execution_count": 4,
   "id": "40695e95-8932-47cc-8c0b-9282faf0e224",
   "metadata": {},
   "outputs": [],
   "source": [
    "# series = one dimensional "
   ]
  },
  {
   "cell_type": "code",
   "execution_count": 5,
   "id": "239d565f-7c86-4272-ba90-69bff2594c63",
   "metadata": {},
   "outputs": [],
   "source": [
    "colors = pd.Series([\"Red\", \"Blue\", \"Red\"])"
   ]
  },
  {
   "cell_type": "code",
   "execution_count": 6,
   "id": "147e7895-2160-46ad-ab7f-19ee89125054",
   "metadata": {},
   "outputs": [
    {
     "data": {
      "text/plain": [
       "0     Red\n",
       "1    Blue\n",
       "2     Red\n",
       "dtype: object"
      ]
     },
     "execution_count": 6,
     "metadata": {},
     "output_type": "execute_result"
    }
   ],
   "source": [
    "colors"
   ]
  },
  {
   "cell_type": "code",
   "execution_count": 7,
   "id": "18b8eeef-c030-4830-a0c6-8cab95d049ec",
   "metadata": {},
   "outputs": [
    {
     "data": {
      "text/html": [
       "<div>\n",
       "<style scoped>\n",
       "    .dataframe tbody tr th:only-of-type {\n",
       "        vertical-align: middle;\n",
       "    }\n",
       "\n",
       "    .dataframe tbody tr th {\n",
       "        vertical-align: top;\n",
       "    }\n",
       "\n",
       "    .dataframe thead th {\n",
       "        text-align: right;\n",
       "    }\n",
       "</style>\n",
       "<table border=\"1\" class=\"dataframe\">\n",
       "  <thead>\n",
       "    <tr style=\"text-align: right;\">\n",
       "      <th></th>\n",
       "      <th>Car Make</th>\n",
       "      <th>Color</th>\n",
       "    </tr>\n",
       "  </thead>\n",
       "  <tbody>\n",
       "    <tr>\n",
       "      <th>0</th>\n",
       "      <td>BMW</td>\n",
       "      <td>Red</td>\n",
       "    </tr>\n",
       "    <tr>\n",
       "      <th>1</th>\n",
       "      <td>Toyota</td>\n",
       "      <td>Blue</td>\n",
       "    </tr>\n",
       "    <tr>\n",
       "      <th>2</th>\n",
       "      <td>Honda</td>\n",
       "      <td>Red</td>\n",
       "    </tr>\n",
       "  </tbody>\n",
       "</table>\n",
       "</div>"
      ],
      "text/plain": [
       "  Car Make Color\n",
       "0      BMW   Red\n",
       "1   Toyota  Blue\n",
       "2    Honda   Red"
      ]
     },
     "execution_count": 7,
     "metadata": {},
     "output_type": "execute_result"
    }
   ],
   "source": [
    "# Data Frame is 2-D\n",
    "car_data = pd.DataFrame({\"Car Make\":series, \"Color\":colors})\n",
    "car_data"
   ]
  },
  {
   "cell_type": "code",
   "execution_count": 8,
   "id": "6daa5e50-0450-4249-8ce8-de163f8540d0",
   "metadata": {},
   "outputs": [],
   "source": [
    "# Importing Data "
   ]
  },
  {
   "cell_type": "code",
   "execution_count": 9,
   "id": "deb77146-afec-43c5-918b-76790c268b8d",
   "metadata": {},
   "outputs": [],
   "source": [
    "car_sales = pd.read_csv(\"car-sales.csv\")"
   ]
  },
  {
   "cell_type": "code",
   "execution_count": 10,
   "id": "d8c7232c-6b36-4945-ad00-f8063fd4454e",
   "metadata": {},
   "outputs": [
    {
     "data": {
      "text/html": [
       "<div>\n",
       "<style scoped>\n",
       "    .dataframe tbody tr th:only-of-type {\n",
       "        vertical-align: middle;\n",
       "    }\n",
       "\n",
       "    .dataframe tbody tr th {\n",
       "        vertical-align: top;\n",
       "    }\n",
       "\n",
       "    .dataframe thead th {\n",
       "        text-align: right;\n",
       "    }\n",
       "</style>\n",
       "<table border=\"1\" class=\"dataframe\">\n",
       "  <thead>\n",
       "    <tr style=\"text-align: right;\">\n",
       "      <th></th>\n",
       "      <th>Make</th>\n",
       "      <th>Colour</th>\n",
       "      <th>Odometer (KM)</th>\n",
       "      <th>Doors</th>\n",
       "      <th>Price</th>\n",
       "    </tr>\n",
       "  </thead>\n",
       "  <tbody>\n",
       "    <tr>\n",
       "      <th>0</th>\n",
       "      <td>Toyota</td>\n",
       "      <td>White</td>\n",
       "      <td>150043</td>\n",
       "      <td>4</td>\n",
       "      <td>$4,000.00</td>\n",
       "    </tr>\n",
       "    <tr>\n",
       "      <th>1</th>\n",
       "      <td>Honda</td>\n",
       "      <td>Red</td>\n",
       "      <td>87899</td>\n",
       "      <td>4</td>\n",
       "      <td>$5,000.00</td>\n",
       "    </tr>\n",
       "    <tr>\n",
       "      <th>2</th>\n",
       "      <td>Toyota</td>\n",
       "      <td>Blue</td>\n",
       "      <td>32549</td>\n",
       "      <td>3</td>\n",
       "      <td>$7,000.00</td>\n",
       "    </tr>\n",
       "    <tr>\n",
       "      <th>3</th>\n",
       "      <td>BMW</td>\n",
       "      <td>Black</td>\n",
       "      <td>11179</td>\n",
       "      <td>5</td>\n",
       "      <td>$22,000.00</td>\n",
       "    </tr>\n",
       "    <tr>\n",
       "      <th>4</th>\n",
       "      <td>Nissan</td>\n",
       "      <td>White</td>\n",
       "      <td>213095</td>\n",
       "      <td>4</td>\n",
       "      <td>$3,500.00</td>\n",
       "    </tr>\n",
       "    <tr>\n",
       "      <th>5</th>\n",
       "      <td>Toyota</td>\n",
       "      <td>Green</td>\n",
       "      <td>99213</td>\n",
       "      <td>4</td>\n",
       "      <td>$4,500.00</td>\n",
       "    </tr>\n",
       "    <tr>\n",
       "      <th>6</th>\n",
       "      <td>Honda</td>\n",
       "      <td>Blue</td>\n",
       "      <td>45698</td>\n",
       "      <td>4</td>\n",
       "      <td>$7,500.00</td>\n",
       "    </tr>\n",
       "    <tr>\n",
       "      <th>7</th>\n",
       "      <td>Honda</td>\n",
       "      <td>Blue</td>\n",
       "      <td>54738</td>\n",
       "      <td>4</td>\n",
       "      <td>$7,000.00</td>\n",
       "    </tr>\n",
       "    <tr>\n",
       "      <th>8</th>\n",
       "      <td>Toyota</td>\n",
       "      <td>White</td>\n",
       "      <td>60000</td>\n",
       "      <td>4</td>\n",
       "      <td>$6,250.00</td>\n",
       "    </tr>\n",
       "    <tr>\n",
       "      <th>9</th>\n",
       "      <td>Nissan</td>\n",
       "      <td>White</td>\n",
       "      <td>31600</td>\n",
       "      <td>4</td>\n",
       "      <td>$9,700.00</td>\n",
       "    </tr>\n",
       "  </tbody>\n",
       "</table>\n",
       "</div>"
      ],
      "text/plain": [
       "     Make Colour  Odometer (KM)  Doors        Price\n",
       "0  Toyota  White         150043      4   $4,000.00 \n",
       "1   Honda    Red          87899      4   $5,000.00 \n",
       "2  Toyota   Blue          32549      3   $7,000.00 \n",
       "3     BMW  Black          11179      5  $22,000.00 \n",
       "4  Nissan  White         213095      4   $3,500.00 \n",
       "5  Toyota  Green          99213      4   $4,500.00 \n",
       "6   Honda   Blue          45698      4   $7,500.00 \n",
       "7   Honda   Blue          54738      4   $7,000.00 \n",
       "8  Toyota  White          60000      4   $6,250.00 \n",
       "9  Nissan  White          31600      4   $9,700.00 "
      ]
     },
     "execution_count": 10,
     "metadata": {},
     "output_type": "execute_result"
    }
   ],
   "source": [
    "car_sales"
   ]
  },
  {
   "cell_type": "code",
   "execution_count": 11,
   "id": "5b2363f2-7f6c-4d57-9ec3-5e0482ae2417",
   "metadata": {},
   "outputs": [],
   "source": [
    "#Exproting a Data Frame"
   ]
  },
  {
   "cell_type": "code",
   "execution_count": 12,
   "id": "cbefb6de-92b9-4c8e-a182-a8fb465ffa4b",
   "metadata": {},
   "outputs": [],
   "source": [
    "car_sales.to_csv(\"exported-car-sales.csv\", index = False)\n"
   ]
  },
  {
   "cell_type": "code",
   "execution_count": 13,
   "id": "3c5e2204-8e5c-4176-bdbd-4bc9ebaf661d",
   "metadata": {},
   "outputs": [],
   "source": [
    "#you need to add index = false or it will read the first column as an unknown. "
   ]
  },
  {
   "cell_type": "code",
   "execution_count": 14,
   "id": "d6760aba-4c14-48a8-81df-50df9ab16d14",
   "metadata": {},
   "outputs": [],
   "source": [
    "exported_car_sales = pd.read_csv(\"exported-car-sales.csv\")"
   ]
  },
  {
   "cell_type": "code",
   "execution_count": 15,
   "id": "c0761ca9-3241-45e5-b6cc-f11994f0eb19",
   "metadata": {},
   "outputs": [
    {
     "data": {
      "text/html": [
       "<div>\n",
       "<style scoped>\n",
       "    .dataframe tbody tr th:only-of-type {\n",
       "        vertical-align: middle;\n",
       "    }\n",
       "\n",
       "    .dataframe tbody tr th {\n",
       "        vertical-align: top;\n",
       "    }\n",
       "\n",
       "    .dataframe thead th {\n",
       "        text-align: right;\n",
       "    }\n",
       "</style>\n",
       "<table border=\"1\" class=\"dataframe\">\n",
       "  <thead>\n",
       "    <tr style=\"text-align: right;\">\n",
       "      <th></th>\n",
       "      <th>Make</th>\n",
       "      <th>Colour</th>\n",
       "      <th>Odometer (KM)</th>\n",
       "      <th>Doors</th>\n",
       "      <th>Price</th>\n",
       "    </tr>\n",
       "  </thead>\n",
       "  <tbody>\n",
       "    <tr>\n",
       "      <th>0</th>\n",
       "      <td>Toyota</td>\n",
       "      <td>White</td>\n",
       "      <td>150043</td>\n",
       "      <td>4</td>\n",
       "      <td>$4,000.00</td>\n",
       "    </tr>\n",
       "    <tr>\n",
       "      <th>1</th>\n",
       "      <td>Honda</td>\n",
       "      <td>Red</td>\n",
       "      <td>87899</td>\n",
       "      <td>4</td>\n",
       "      <td>$5,000.00</td>\n",
       "    </tr>\n",
       "    <tr>\n",
       "      <th>2</th>\n",
       "      <td>Toyota</td>\n",
       "      <td>Blue</td>\n",
       "      <td>32549</td>\n",
       "      <td>3</td>\n",
       "      <td>$7,000.00</td>\n",
       "    </tr>\n",
       "    <tr>\n",
       "      <th>3</th>\n",
       "      <td>BMW</td>\n",
       "      <td>Black</td>\n",
       "      <td>11179</td>\n",
       "      <td>5</td>\n",
       "      <td>$22,000.00</td>\n",
       "    </tr>\n",
       "    <tr>\n",
       "      <th>4</th>\n",
       "      <td>Nissan</td>\n",
       "      <td>White</td>\n",
       "      <td>213095</td>\n",
       "      <td>4</td>\n",
       "      <td>$3,500.00</td>\n",
       "    </tr>\n",
       "    <tr>\n",
       "      <th>5</th>\n",
       "      <td>Toyota</td>\n",
       "      <td>Green</td>\n",
       "      <td>99213</td>\n",
       "      <td>4</td>\n",
       "      <td>$4,500.00</td>\n",
       "    </tr>\n",
       "    <tr>\n",
       "      <th>6</th>\n",
       "      <td>Honda</td>\n",
       "      <td>Blue</td>\n",
       "      <td>45698</td>\n",
       "      <td>4</td>\n",
       "      <td>$7,500.00</td>\n",
       "    </tr>\n",
       "    <tr>\n",
       "      <th>7</th>\n",
       "      <td>Honda</td>\n",
       "      <td>Blue</td>\n",
       "      <td>54738</td>\n",
       "      <td>4</td>\n",
       "      <td>$7,000.00</td>\n",
       "    </tr>\n",
       "    <tr>\n",
       "      <th>8</th>\n",
       "      <td>Toyota</td>\n",
       "      <td>White</td>\n",
       "      <td>60000</td>\n",
       "      <td>4</td>\n",
       "      <td>$6,250.00</td>\n",
       "    </tr>\n",
       "    <tr>\n",
       "      <th>9</th>\n",
       "      <td>Nissan</td>\n",
       "      <td>White</td>\n",
       "      <td>31600</td>\n",
       "      <td>4</td>\n",
       "      <td>$9,700.00</td>\n",
       "    </tr>\n",
       "  </tbody>\n",
       "</table>\n",
       "</div>"
      ],
      "text/plain": [
       "     Make Colour  Odometer (KM)  Doors        Price\n",
       "0  Toyota  White         150043      4   $4,000.00 \n",
       "1   Honda    Red          87899      4   $5,000.00 \n",
       "2  Toyota   Blue          32549      3   $7,000.00 \n",
       "3     BMW  Black          11179      5  $22,000.00 \n",
       "4  Nissan  White         213095      4   $3,500.00 \n",
       "5  Toyota  Green          99213      4   $4,500.00 \n",
       "6   Honda   Blue          45698      4   $7,500.00 \n",
       "7   Honda   Blue          54738      4   $7,000.00 \n",
       "8  Toyota  White          60000      4   $6,250.00 \n",
       "9  Nissan  White          31600      4   $9,700.00 "
      ]
     },
     "execution_count": 15,
     "metadata": {},
     "output_type": "execute_result"
    }
   ],
   "source": [
    "exported_car_sales"
   ]
  },
  {
   "cell_type": "markdown",
   "id": "23c98d2b-0267-4b6e-bb91-5ab338430027",
   "metadata": {},
   "source": [
    "## describe the data"
   ]
  },
  {
   "cell_type": "code",
   "execution_count": null,
   "id": "7e26a966-9f74-45c7-8233-f9b918dcc867",
   "metadata": {},
   "outputs": [],
   "source": [
    "# This is an attribute it does not have (), it is meta information"
   ]
  },
  {
   "cell_type": "code",
   "execution_count": 17,
   "id": "2f12ce42-3444-4216-80fb-2034914482c6",
   "metadata": {},
   "outputs": [
    {
     "data": {
      "text/plain": [
       "Make             object\n",
       "Colour           object\n",
       "Odometer (KM)     int64\n",
       "Doors             int64\n",
       "Price            object\n",
       "dtype: object"
      ]
     },
     "execution_count": 17,
     "metadata": {},
     "output_type": "execute_result"
    }
   ],
   "source": [
    "car_sales.dtypes"
   ]
  },
  {
   "cell_type": "code",
   "execution_count": 16,
   "id": "26af97e1-6d26-45fe-bb02-26008908c521",
   "metadata": {},
   "outputs": [],
   "source": [
    "#this is a function and uses (), this will perform different steps"
   ]
  },
  {
   "cell_type": "code",
   "execution_count": 18,
   "id": "09cb9c5a-e149-4e52-a8a2-c2bc8453a85c",
   "metadata": {},
   "outputs": [
    {
     "data": {
      "text/plain": [
       "',Make,Colour,Odometer (KM),Doors,Price\\n0,Toyota,White,150043,4,\"$4,000.00 \"\\n1,Honda,Red,87899,4,\"$5,000.00 \"\\n2,Toyota,Blue,32549,3,\"$7,000.00 \"\\n3,BMW,Black,11179,5,\"$22,000.00 \"\\n4,Nissan,White,213095,4,\"$3,500.00 \"\\n5,Toyota,Green,99213,4,\"$4,500.00 \"\\n6,Honda,Blue,45698,4,\"$7,500.00 \"\\n7,Honda,Blue,54738,4,\"$7,000.00 \"\\n8,Toyota,White,60000,4,\"$6,250.00 \"\\n9,Nissan,White,31600,4,\"$9,700.00 \"\\n'"
      ]
     },
     "execution_count": 18,
     "metadata": {},
     "output_type": "execute_result"
    }
   ],
   "source": [
    "#car_sales.to_csv()"
   ]
  },
  {
   "cell_type": "code",
   "execution_count": 19,
   "id": "e9fad658-ce51-4ab1-ba05-02967d2a6783",
   "metadata": {},
   "outputs": [
    {
     "data": {
      "text/plain": [
       "Index(['Make', 'Colour', 'Odometer (KM)', 'Doors', 'Price'], dtype='object')"
      ]
     },
     "execution_count": 19,
     "metadata": {},
     "output_type": "execute_result"
    }
   ],
   "source": [
    "car_sales.columns"
   ]
  },
  {
   "cell_type": "code",
   "execution_count": 21,
   "id": "d6a726b8-65ef-4bad-a45a-93a308f0568b",
   "metadata": {},
   "outputs": [
    {
     "data": {
      "text/plain": [
       "Index(['Make', 'Colour', 'Odometer (KM)', 'Doors', 'Price'], dtype='object')"
      ]
     },
     "execution_count": 21,
     "metadata": {},
     "output_type": "execute_result"
    }
   ],
   "source": [
    "car_columns = car_sales.columns\n",
    "car_columns"
   ]
  },
  {
   "cell_type": "code",
   "execution_count": 22,
   "id": "735960b8-3286-4ae8-ab31-f54b7c04192d",
   "metadata": {},
   "outputs": [
    {
     "data": {
      "text/plain": [
       "RangeIndex(start=0, stop=10, step=1)"
      ]
     },
     "execution_count": 22,
     "metadata": {},
     "output_type": "execute_result"
    }
   ],
   "source": [
    "car_sales.index"
   ]
  },
  {
   "cell_type": "code",
   "execution_count": 23,
   "id": "aff608d5-54da-431d-af6c-a059c96fb003",
   "metadata": {},
   "outputs": [],
   "source": [
    "#Let's call some functions"
   ]
  },
  {
   "cell_type": "code",
   "execution_count": 24,
   "id": "2aecdae3-cebb-4b05-8dcf-c77cb510045d",
   "metadata": {},
   "outputs": [
    {
     "data": {
      "text/html": [
       "<div>\n",
       "<style scoped>\n",
       "    .dataframe tbody tr th:only-of-type {\n",
       "        vertical-align: middle;\n",
       "    }\n",
       "\n",
       "    .dataframe tbody tr th {\n",
       "        vertical-align: top;\n",
       "    }\n",
       "\n",
       "    .dataframe thead th {\n",
       "        text-align: right;\n",
       "    }\n",
       "</style>\n",
       "<table border=\"1\" class=\"dataframe\">\n",
       "  <thead>\n",
       "    <tr style=\"text-align: right;\">\n",
       "      <th></th>\n",
       "      <th>Odometer (KM)</th>\n",
       "      <th>Doors</th>\n",
       "    </tr>\n",
       "  </thead>\n",
       "  <tbody>\n",
       "    <tr>\n",
       "      <th>count</th>\n",
       "      <td>10.000000</td>\n",
       "      <td>10.000000</td>\n",
       "    </tr>\n",
       "    <tr>\n",
       "      <th>mean</th>\n",
       "      <td>78601.400000</td>\n",
       "      <td>4.000000</td>\n",
       "    </tr>\n",
       "    <tr>\n",
       "      <th>std</th>\n",
       "      <td>61983.471735</td>\n",
       "      <td>0.471405</td>\n",
       "    </tr>\n",
       "    <tr>\n",
       "      <th>min</th>\n",
       "      <td>11179.000000</td>\n",
       "      <td>3.000000</td>\n",
       "    </tr>\n",
       "    <tr>\n",
       "      <th>25%</th>\n",
       "      <td>35836.250000</td>\n",
       "      <td>4.000000</td>\n",
       "    </tr>\n",
       "    <tr>\n",
       "      <th>50%</th>\n",
       "      <td>57369.000000</td>\n",
       "      <td>4.000000</td>\n",
       "    </tr>\n",
       "    <tr>\n",
       "      <th>75%</th>\n",
       "      <td>96384.500000</td>\n",
       "      <td>4.000000</td>\n",
       "    </tr>\n",
       "    <tr>\n",
       "      <th>max</th>\n",
       "      <td>213095.000000</td>\n",
       "      <td>5.000000</td>\n",
       "    </tr>\n",
       "  </tbody>\n",
       "</table>\n",
       "</div>"
      ],
      "text/plain": [
       "       Odometer (KM)      Doors\n",
       "count      10.000000  10.000000\n",
       "mean    78601.400000   4.000000\n",
       "std     61983.471735   0.471405\n",
       "min     11179.000000   3.000000\n",
       "25%     35836.250000   4.000000\n",
       "50%     57369.000000   4.000000\n",
       "75%     96384.500000   4.000000\n",
       "max    213095.000000   5.000000"
      ]
     },
     "execution_count": 24,
     "metadata": {},
     "output_type": "execute_result"
    }
   ],
   "source": [
    "car_sales.describe()"
   ]
  },
  {
   "cell_type": "code",
   "execution_count": 26,
   "id": "8d747230-0641-439c-87b6-5f707675fd16",
   "metadata": {},
   "outputs": [],
   "source": [
    "#this gives us statistical information about our NUMERIC columns, notice that price is an object rather than an int."
   ]
  },
  {
   "cell_type": "code",
   "execution_count": 27,
   "id": "c9343377-4b61-4e1f-b4ff-c6e5e8b0f15c",
   "metadata": {},
   "outputs": [
    {
     "data": {
      "text/plain": [
       "<bound method DataFrame.info of      Make Colour  Odometer (KM)  Doors        Price\n",
       "0  Toyota  White         150043      4   $4,000.00 \n",
       "1   Honda    Red          87899      4   $5,000.00 \n",
       "2  Toyota   Blue          32549      3   $7,000.00 \n",
       "3     BMW  Black          11179      5  $22,000.00 \n",
       "4  Nissan  White         213095      4   $3,500.00 \n",
       "5  Toyota  Green          99213      4   $4,500.00 \n",
       "6   Honda   Blue          45698      4   $7,500.00 \n",
       "7   Honda   Blue          54738      4   $7,000.00 \n",
       "8  Toyota  White          60000      4   $6,250.00 \n",
       "9  Nissan  White          31600      4   $9,700.00 >"
      ]
     },
     "execution_count": 27,
     "metadata": {},
     "output_type": "execute_result"
    }
   ],
   "source": [
    "car_sales.info"
   ]
  },
  {
   "cell_type": "code",
   "execution_count": 28,
   "id": "78290597-6646-4870-9b58-4facd94c1772",
   "metadata": {},
   "outputs": [],
   "source": [
    "# info and describe are the very basic ones we will look at to start exploring our data. "
   ]
  },
  {
   "cell_type": "code",
   "execution_count": null,
   "id": "8155d4a0-03fe-4746-a674-b754c2cfd8ee",
   "metadata": {},
   "outputs": [],
   "source": []
  }
 ],
 "metadata": {
  "kernelspec": {
   "display_name": "Python 3 (ipykernel)",
   "language": "python",
   "name": "python3"
  },
  "language_info": {
   "codemirror_mode": {
    "name": "ipython",
    "version": 3
   },
   "file_extension": ".py",
   "mimetype": "text/x-python",
   "name": "python",
   "nbconvert_exporter": "python",
   "pygments_lexer": "ipython3",
   "version": "3.11.5"
  }
 },
 "nbformat": 4,
 "nbformat_minor": 5
}
