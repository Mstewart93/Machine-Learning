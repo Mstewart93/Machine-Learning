{
 "cells": [
  {
   "cell_type": "markdown",
   "id": "cf9edd1a-e14e-4ddc-bfec-c2ca74e922fc",
   "metadata": {},
   "source": [
    "# This is where I will practice information found in 10 Minutes to Pandas "
   ]
  },
  {
   "cell_type": "code",
   "execution_count": null,
   "id": "08d8663e-e411-40fe-b834-62a64d8aaa8b",
   "metadata": {},
   "outputs": [],
   "source": []
  }
 ],
 "metadata": {
  "kernelspec": {
   "display_name": "Python 3 (ipykernel)",
   "language": "python",
   "name": "python3"
  },
  "language_info": {
   "codemirror_mode": {
    "name": "ipython",
    "version": 3
   },
   "file_extension": ".py",
   "mimetype": "text/x-python",
   "name": "python",
   "nbconvert_exporter": "python",
   "pygments_lexer": "ipython3",
   "version": "3.11.5"
  }
 },
 "nbformat": 4,
 "nbformat_minor": 5
}
